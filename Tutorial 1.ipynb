{
 "cells": [
  {
   "cell_type": "markdown",
   "metadata": {
    "slideshow": {
     "slide_type": ""
    },
    "tags": []
   },
   "source": [
    "# <font color = firebrick>Tutorial 1: Jupyter notebooks</font> <a id='home'></a>\n",
    "\n",
    "In this notebook, we will learn how to use Jupyter notebooks:\n",
    "\n",
    "1. [What is a Jupyter notebook?](#jupyter)\n",
    "2. [Working on notebooks](#open)\n",
    "3. [Markdown and code cells](#cells)\n",
    "\n",
    "So let's get started! Although notebooks are designed to be intuitive, any question is legitimate and welcome!"
   ]
  },
  {
   "cell_type": "markdown",
   "metadata": {},
   "source": [
    "## 1. What is a Jupyter notebook? <a id=\"jupyter\"></a> ([top](#home))\n",
    "When learning Python, there are different ways to write and run code. One common way is to write code in a text file, save it, and then run it with a program called an **interpreter**. The problem of this method is that the code and the results are separated. In **Jupyter notebooks**, you'll find:  \n",
    "- text explanations in **Markdown** cells - like this paragraph\n",
    "- code (input) and results (output) in **Code** cells - like the one below marked with `[ ]:` on the left\n",
    "\n",
    "\n",
    "So, we can now try out to run Python code in the cell below. So let's start now with Task 1 to learn how to run Python code.\n",
    "\n",
    "**Task #1:**\n",
    "1. Click inside the next cell (the code cell).  \n",
    "2. Type `33*2`.  \n",
    "3. Run the cell:  \n",
    "   - By pressing **Ctrl + Enter** (Windows/Linux) or **Cmd + Enter** (Mac)\n",
    "   - Or by clicking the **“Run” button (black triangle ▶)** in the toolbar above the notebook \n",
    "\n",
    "\n",
    "You should see the result of the calculation appear just below the code cell (the number `66`). You now have tested the very basic idea of Jupyter:  \n",
    "- **Write code → Run it → See results immediately**.  "
   ]
  },
  {
   "cell_type": "code",
   "execution_count": 1,
   "metadata": {},
   "outputs": [
    {
     "data": {
      "text/plain": [
       "66"
      ]
     },
     "execution_count": 1,
     "metadata": {},
     "output_type": "execute_result"
    }
   ],
   "source": [
    "33*2"
   ]
  },
  {
   "cell_type": "markdown",
   "metadata": {},
   "source": [
    "You've just completed your first calculation in Python thanks to this interactive notebook.  \n",
    "Between the **code cells**, we use **text cells** (written in Markdown) to explain what the code does.  \n",
    "\n",
    "Now let's practice working with the notebook itself.  \n",
    "\n",
    "**Task #2:**\n",
    "1. Add a new cell:\n",
    "   - Click on the cell of this text\n",
    "   - Click on the **+ button** in the toolbar (above this notebook)  \n",
    "   - Or use the menu **Run → Run Selected Cell and Insert Below** (this runs the current cell and creates a new one below).  \n",
    "2. Change the type of this new cell:  \n",
    "   - In the toolbar, locate the menu that currently shows **Code**.  \n",
    "   - Change it to **Markdown**.  \n",
    "3. In this new Markdown cell, type a short sentence, for example:  \n",
    "   `This is my first Markdown cell.`  \n",
    "4. Run the cell:  \n",
    "   - Press **Ctrl + Enter** (Windows/Linux) or **Cmd + Enter** (Mac),  \n",
    "   - Or click the **Run button (triangle ▶)** in the toolbar.  \n",
    "\n",
    "You should now see your sentence displayed as formatted text instead of code.  "
   ]
  },
  {
   "cell_type": "markdown",
   "metadata": {},
   "source": [
    "## 2. Working on notebooks <a id=\"open\"></a> ([top](#home))\n",
    "\n",
    "So far, we have been working on this notebook that previously existed on **mybinder**. Now let’s see how to **open**, **create**, **save**, and **close** notebooks in this environment.  \n",
    "\n",
    "### Opening an existing notebook\n",
    "1. Look at the **left panel** of the screen: it shows the list of files and folders.  \n",
    "2. Notebooks are files ending with **`.ipynb`**.  \n",
    "3. To open one, just double-click on its name in the left panel.  \n",
    "   - The notebook will then appear in a new tab in the main area (on the right).  \n",
    "\n",
    "### Creating a new notebook\n",
    "There are two ways to create a new notebook:  \n",
    "- Click the **“+” button** at the top of the left panel → then choose **Notebook → Python 3 (ipykernel)**.  \n",
    "- Or go to the **File menu (top bar)** → **New → Notebook** → choose **Python 3 (ipykernel)** → **Select**. \n",
    "\n",
    "A new notebook will open in a tab on the right.  \n",
    "\n",
    "### Saving a notebook\n",
    "- Click the **disk icon** in the toolbar above the notebook,  \n",
    "- Or use the menu **File → Save Notebook** or **→ Save Notebook As..** if you want to change the name of your ipynb file,  \n",
    "- Or press the keyboard shortcut **Ctrl+S** (Windows/Linux) or **Cmd+S** (Mac).  \n",
    "\n",
    "On mybinder, notebooks are **temporary**: your changes are lost when you close the session. If you want to keep your work, you must **download the notebook**: click the **Download button** in the toolbar or use the menu **File → Download**.  \n",
    "\n",
    "### Closing a notebook\n",
    "- Close the **tab** of the notebook (the little \"x\" on the tab in the main area).  \n",
    "- Do not close the browser window unless you want to leave mybinder completely."
   ]
  },
  {
   "cell_type": "markdown",
   "metadata": {},
   "source": [
    "## <font color = firebrick>Practice</font>\n",
    "1. Create a new notebook and name it 'myFirst_notebook'.\n",
    "2. Change the first cell into a markdown cell. Type \"Hello world\" in the cell and run the cell.\n",
    "3. Save the notebook and close it. \n",
    "\n",
    "Now look back to the file panel. Can you see your notebook?\n",
    "1. Open your notebook.\n",
    "2. From the 'File' menu, make a copy of the notebook and rename it 'myFirst_notebook_v2'.\n",
    "3. In \"myFirst_notebook_v2\", type the names of three classes you are taking this semester in a new cell\n",
    "4. Save your notebook and close it."
   ]
  },
  {
   "cell_type": "markdown",
   "metadata": {},
   "source": [
    "## 3. Markdown and code cells<a id=\"cells\"></a> ([top](#home))\n",
    "\n",
    "### 3.1 Markdown \n",
    "\n",
    "Markdown is a simple “markup” language. The aim of Markdown is to provide a very simple set of commands for formatting text: headings, lists, links, italic text, bold text, etc. to make text easier to read.\n",
    "Read the markdown control sheet available [here](https://dataplatform.cloud.ibm.com/docs/content/wsj/analyze-data/markd-jupyter.html?context=cpdaas) for a list of commands, or look at the source code of the cells you're reading by double-clicking on them (“Ctrl+Enter” to launch the return to normal appearance).\n"
   ]
  },
  {
   "cell_type": "markdown",
   "metadata": {},
   "source": [
    "**Task #3:** In the cell below, create three levels of headings. ``# Heading 1`` will generate the first-level heading. Can you deduce how to obtain the second and third level headings? \n"
   ]
  },
  {
   "cell_type": "markdown",
   "metadata": {},
   "source": [
    "# Heading 1"
   ]
  },
  {
   "cell_type": "markdown",
   "metadata": {},
   "source": [
    "**Task #4:** In the cell below, type ``**bold**`` and ``*italics*``. ``~~crossed_out~~`` may generate many mistakes. What happens in the cell if you type: ``___`` (three underscores in a row)?"
   ]
  },
  {
   "cell_type": "markdown",
   "metadata": {},
   "source": [
    "**bold**\n",
    "*italics*"
   ]
  },
  {
   "cell_type": "raw",
   "metadata": {},
   "source": [
    "You may have noticed that the text changes color depending on the command selected (bold, italic, etc.). This makes your formatting much easier to read!"
   ]
  },
  {
   "cell_type": "markdown",
   "metadata": {},
   "source": [
    "### Lists\n",
    "An unordered list uses asterisks. In the cell below, try \n",
    "```\n",
    "* Bun\n",
    "* Soy steak \n",
    "* Cheese\n",
    "* Lettuce\n",
    "* Tomato\n",
    "```\n",
    "and run the cell (Shift+Enter). Is the behavior different than when you type ctrl-enter? "
   ]
  },
  {
   "cell_type": "markdown",
   "metadata": {},
   "source": []
  },
  {
   "cell_type": "markdown",
   "metadata": {},
   "source": [
    "**Task #5:** Try an ordered list\n",
    "```\n",
    "1. Aisne\n",
    "2. Nord\n",
    "3. Oise\n",
    "4. Pas-de-Calais\n",
    "5. Somme \n",
    "```\n",
    "and run the cell. "
   ]
  },
  {
   "cell_type": "markdown",
   "metadata": {},
   "source": []
  },
  {
   "cell_type": "markdown",
   "metadata": {},
   "source": [
    "**Task #6:** Try to add sub-items to the entries.\n",
    "```\n",
    "1. Aisne\n",
    "    1.\n",
    "    2. \n",
    "2. Nord\n",
    "3. Oise\n",
    "4. Pas-de-Calais\n",
    "5. Somme\n",
    "    1. Amiens (Admin. center)\n",
    "    2. Abbeville (Subpref.)\n",
    "    3. Montdidier (Subpref.)\n",
    "    4. Péronne (Subpref.)\n",
    "```\n",
    "\n",
    "What happens when you run the cell? How do you add a third level to the list?"
   ]
  },
  {
   "cell_type": "markdown",
   "metadata": {},
   "source": []
  },
  {
   "cell_type": "markdown",
   "metadata": {},
   "source": [
    "### 3.2 Code\n",
    "It's often useful to write code snippets in your text. Use the backticks (find it on your keyboard!) to write code. In the cell below, type `` `x=2` ``. What happens?"
   ]
  },
  {
   "cell_type": "markdown",
   "metadata": {},
   "source": []
  },
  {
   "cell_type": "markdown",
   "metadata": {},
   "source": [
    "Now try a block of code with three backticks in the cell below:\n",
    "\n",
    "\\`\\`\\`\n",
    "\n",
    "python\n",
    "\n",
    "s = 10\n",
    "\n",
    "print(s)\n",
    "\n",
    "\\`\\`\\`\n"
   ]
  },
  {
   "cell_type": "markdown",
   "metadata": {},
   "source": []
  },
  {
   "cell_type": "markdown",
   "metadata": {},
   "source": [
    "## <font color = firebrick> Practice </font>\n",
    "\n",
    "Open your 'myFirst_notebook_v2' notebook and insert a markdown cell to:\n",
    "1. Format a title \"Title 1\" as a level-1 header\n",
    "3. Format your list of courses into an unordered list\n",
    "4. Make the course you prefer in bold font, maybe this course. ;)\n",
    "\n",
    "then:\n",
    "\n",
    "5. Insert a code cell below and write within the cell: \n",
    "\n",
    "```python\n",
    "s = 'a string'\n",
    "print(s)\n",
    "``` "
   ]
  },
  {
   "cell_type": "code",
   "execution_count": null,
   "metadata": {},
   "outputs": [],
   "source": []
  }
 ],
 "metadata": {
  "celltoolbar": "Attachments",
  "kernelspec": {
   "display_name": "Python 3 (ipykernel)",
   "language": "python",
   "name": "python3"
  },
  "language_info": {
   "codemirror_mode": {
    "name": "ipython",
    "version": 3
   },
   "file_extension": ".py",
   "mimetype": "text/x-python",
   "name": "python",
   "nbconvert_exporter": "python",
   "pygments_lexer": "ipython3",
   "version": "3.11.4"
  }
 },
 "nbformat": 4,
 "nbformat_minor": 4
}
