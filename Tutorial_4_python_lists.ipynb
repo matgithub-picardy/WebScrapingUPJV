{
 "cells": [
  {
   "cell_type": "markdown",
   "metadata": {},
   "source": [
    "# <font color = firebrick>Tutorial 4: Lists, Tuples, and Dicts</font><a id='home'></a>\n",
    "\n",
    "We've worked with simple types like float, int, and str, which are scalar types. But we often need more complex structures.\n",
    "\n",
    "Python offers data structures like list, tuple, and dict that allow us to group data, including user interactions or transaction records. In this course, we will focus heavily on lists, tuples, and dictionaries for organizing and analyzing data:\n",
    "    \n",
    "1. [Lists](#list) \n",
    "2. [Tuples](#tuple)\n",
    "3. [Dictionaries](#dict)"
   ]
  },
  {
   "cell_type": "markdown",
   "metadata": {},
   "source": [
    "# 1. Lists<a id=\"list\"></a> ([top](#home))\n",
    "In economics, we often handle data collections such as user activities, transactions, or platform metrics. Python lists allow us to store and manage these data points in a flexible and ordered way, perfect for real-time analysis.\n",
    "\n",
    "A list is an ordered and modifiable (or mutable) collection of data points. Let’s explore lists with examples:"
   ]
  },
  {
   "cell_type": "code",
   "execution_count": null,
   "metadata": {},
   "outputs": [],
   "source": [
    "# A list of numerical data (like user ratings or purchase amounts)\n",
    "transaction_list = [5, 20, 15, 10]\n",
    "\n",
    "# A list of strings (e.g., platform names)\n",
    "platform_list = ['Facebook', 'Amazon', 'Google']\n",
    "\n",
    "print('Transaction List:', transaction_list)\n",
    "print('Platform List:', platform_list)"
   ]
  },
  {
   "cell_type": "markdown",
   "metadata": {},
   "source": [
    "Python lists can even hold mixed types, such as user IDs and activity types, something that would be more rigid in other languages:"
   ]
  },
  {
   "cell_type": "code",
   "execution_count": null,
   "metadata": {},
   "outputs": [],
   "source": [
    "# A mixed list combining numbers and strings (useful for user profiles)\n",
    "mixed_list = [101, 'search', 205, 'purchase']\n",
    "\n",
    "print('Mixed List:', mixed_list)\n",
    "print('First element type:', type(mixed_list[0]))\n",
    "print('Second element type:', type(mixed_list[1]))"
   ]
  },
  {
   "cell_type": "markdown",
   "metadata": {},
   "source": [
    "**Key concept:** Lists in Python are indexed starting from 0, meaning the first element is accessed with index 0. This is crucial when dealing with datasets, as the position of data often holds meaning (e.g., transaction history)."
   ]
  },
  {
   "cell_type": "code",
   "execution_count": null,
   "metadata": {},
   "outputs": [],
   "source": [
    "# Accessing specific elements\n",
    "print('First element:', mixed_list[0])  # 101\n",
    "print('Second element:', mixed_list[1]) # 'search'"
   ]
  },
  {
   "cell_type": "markdown",
   "metadata": {},
   "source": [
    "#### Manipulating Lists:\n",
    "Lists can be combined and modified easily, making them perfect for tasks like aggregating user data from different sources:"
   ]
  },
  {
   "cell_type": "code",
   "execution_count": null,
   "metadata": {},
   "outputs": [],
   "source": [
    "# Concatenate lists (e.g., merging datasets)\n",
    "combined_list = mixed_list + ['Instagram', 30]\n",
    "\n",
    "print('Combined list:', combined_list)\n",
    "\n",
    "# Append a new element (e.g., adding a new data point)\n",
    "mixed_list.append('completed')\n",
    "\n",
    "print('Updated mixed list:', mixed_list)"
   ]
  },
  {
   "cell_type": "markdown",
   "metadata": {},
   "source": [
    "You can even have lists within lists, useful when working with complex datasets (like structured user profiles):"
   ]
  },
  {
   "cell_type": "code",
   "execution_count": null,
   "metadata": {},
   "outputs": [],
   "source": [
    "# A list within a list (e.g., a user profile with subcategories)\n",
    "user_data = [101, 'John', ['active', 50]]\n",
    "\n",
    "print('Full user data:', user_data)\n",
    "print('Activity type:', user_data[2][0])  # 'active'"
   ]
  },
  {
   "cell_type": "markdown",
   "metadata": {},
   "source": [
    "We have seen two of Python's features above. \n",
    "- how to **concatenate** lists using the + operator.\n",
    "- how to create a list on the same line as the one we're assigning it to.\n",
    "\n",
    "The '+' operator works like the print() function: it 'knows' which object types it's working with (lists, ints, strings) and takes appropriate action. With a few limitations, however."
   ]
  },
  {
   "cell_type": "markdown",
   "metadata": {},
   "source": [
    "## <font color='firebrick'> Practice</font>\n",
    "Let's do a few exercises to practice list manipulations commonly used in economic data analysis:\n",
    "\n",
    "1. Create two lists\n",
    "- One list with integers 1, 2, 3, called `my_int_list`.\n",
    "- Another list with strings '1', '2', '3', called `my_string_list`.\n",
    "- Print the types of both lists."
   ]
  },
  {
   "cell_type": "code",
   "execution_count": null,
   "metadata": {},
   "outputs": [],
   "source": []
  },
  {
   "cell_type": "markdown",
   "metadata": {},
   "source": [
    "2. Concatenate the lists\n",
    "- Merge `my_int_list` and `my_string_list` into a new list `my_super_lis`.\n",
    "- Print `my_super_list`."
   ]
  },
  {
   "cell_type": "code",
   "execution_count": null,
   "metadata": {},
   "outputs": [],
   "source": []
  },
  {
   "cell_type": "markdown",
   "metadata": {},
   "source": [
    "3. Modify the list\n",
    "- In `my_super_list`, change the integer 2 to your favorite number.\n",
    "- Replace the string '3' with your least favorite number.\n",
    "- Print the modified `my_super_list`."
   ]
  },
  {
   "cell_type": "code",
   "execution_count": null,
   "metadata": {},
   "outputs": [],
   "source": []
  },
  {
   "cell_type": "markdown",
   "metadata": {},
   "source": [
    "4. Data cleaning exercise\n",
    "\n",
    "You have raw data in the form of a string: '13839'. What is the data type of `raw_data`? Convert it into a list so it's ready for analysis.\n",
    "\n",
    "Convert the elements in the list to integers. Consider using a loop if working with large datasets."
   ]
  },
  {
   "cell_type": "code",
   "execution_count": null,
   "metadata": {},
   "outputs": [],
   "source": []
  },
  {
   "cell_type": "markdown",
   "metadata": {},
   "source": [
    "## List comprehensions<a id=\"listcomp\"></a>\n",
    "List comprehensions offer a compact way to iterate over lists (or other collections). While everything achieved with a list comprehension can be done with a for loop, they provide a cleaner and more efficient syntax—widely used in Python code for data handling.\n",
    "\n",
    "### Use case: Standardizing data\n",
    "In real-world digital datasets, especially with social media or platform data, consistency is crucial. Imagine analyzing online user types across platforms where user categories might appear in different formats (e.g., 'Subscriber', 'subscriber', 'free_user'). Cleaning these values ensures accurate comparisons. Here’s how we can clean user categories by converting them to lowercase:\n",
    "\n",
    "Using a for loop: "
   ]
  },
  {
   "cell_type": "code",
   "execution_count": null,
   "metadata": {},
   "outputs": [],
   "source": [
    "# User categories data\n",
    "user_types = ['Subscriber', 'subscriber', 'Free_User', 'guest', 'subscriber']\n",
    "\n",
    "# Empty list for cleaned data\n",
    "user_types_cleaned = []\n",
    "for user in user_types:\n",
    "    user_types_cleaned.append(user.lower())\n",
    "\n",
    "print(user_types_cleaned)"
   ]
  },
  {
   "cell_type": "markdown",
   "metadata": {},
   "source": [
    "This works, but Python offers a more elegant solution with list comprehensions:\n",
    "\n",
    "Using a list lomprehension:"
   ]
  },
  {
   "cell_type": "code",
   "execution_count": null,
   "metadata": {},
   "outputs": [],
   "source": [
    "# User categories data\n",
    "user_types = ['Subscriber', 'subscriber', 'Free_User', 'guest', 'subscriber']\n",
    "\n",
    "user_types_cleaned_lc = [user.lower() for user in user_types]\n",
    "\n",
    "print(user_types_cleaned_lc)"
   ]
  },
  {
   "cell_type": "markdown",
   "metadata": {},
   "source": [
    "### Example: Calculating metrics\n",
    "You might want to calculate engagement metrics for users based on activity levels. Consider a simple case where you square user interaction counts:"
   ]
  },
  {
   "cell_type": "code",
   "execution_count": null,
   "metadata": {},
   "outputs": [],
   "source": [
    "interaction_counts = [2, 3, 5]\n",
    "squared_interactions = [count**2 for count in interaction_counts]\n",
    "\n",
    "print(squared_interactions)"
   ]
  },
  {
   "cell_type": "markdown",
   "metadata": {},
   "source": [
    "List comprehensions help us perform these tasks more efficiently, particularly when working with large-scale digital data.\n",
    "\n",
    "**Conditional comprehensions:** Filtering high-value users\n",
    "You can also add conditions to filter specific user categories or behaviors, like prioritizing high-value users:"
   ]
  },
  {
   "cell_type": "code",
   "execution_count": null,
   "metadata": {},
   "outputs": [],
   "source": [
    "high_value_users = [user.upper() for user in user_types_cleaned if user == 'subscriber']\n",
    "\n",
    "print(high_value_users)"
   ]
  },
  {
   "cell_type": "markdown",
   "metadata": {},
   "source": [
    "## <font color='firebrick'> Practice</font>\n",
    "Take a few minutes and practice with these exercises related to data handling.\n",
    "\n",
    "1. Here's a list of interest rates: r = [0.01, 0.01, 0.015, 0.02, 0.022]. Multiply each rate by 100 to express them as percentages."
   ]
  },
  {
   "cell_type": "code",
   "execution_count": null,
   "metadata": {},
   "outputs": [],
   "source": []
  },
  {
   "cell_type": "markdown",
   "metadata": {},
   "source": [
    "2. You’re given `raw_data = '37318'`. Use a list comprehension to turn this string into a list of integers."
   ]
  },
  {
   "cell_type": "code",
   "execution_count": null,
   "metadata": {},
   "outputs": [],
   "source": []
  },
  {
   "cell_type": "markdown",
   "metadata": {},
   "source": [
    "3.  From the list `data_list = [1, 2, 3, 4, 5, 6, 7, 8]`, create two new lists: one with odd numbers and another with even numbers. Use the modulo operator `%`. "
   ]
  },
  {
   "cell_type": "code",
   "execution_count": null,
   "metadata": {},
   "outputs": [],
   "source": []
  },
  {
   "cell_type": "markdown",
   "metadata": {},
   "source": [
    "# 2. Tuples<a id=\"tuple\"></a> ([top](#home))\n",
    "In our exploration of data structures, tuples are key in situations where data must remain unchanged. Unlike lists, tuples are immutable, meaning once created, they cannot be altered. While lists are more common, tuples are useful when you want to ensure data integrity—such as preserving critical parameters in a digital economy simulation.\n",
    "\n",
    "You can create a tuple using round brackets:"
   ]
  },
  {
   "cell_type": "code",
   "execution_count": null,
   "metadata": {},
   "outputs": [],
   "source": [
    "# A tuple of numeric data\n",
    "number_tuple = (2, 3, 5, 8) \n",
    "\n",
    "# A tuple of strings\n",
    "string_tuple = ('price', 'elasticity', 'demand')\n",
    "\n",
    "print('number_tuple type:', type(number_tuple))\n",
    "print('number_tuple:', number_tuple, '\\n')\n",
    "\n",
    "print('string_tuple:', type(string_tuple))\n",
    "print('string_tuple:', string_tuple)"
   ]
  },
  {
   "cell_type": "markdown",
   "metadata": {},
   "source": [
    "Notice the difference in brackets between tuples (round) and lists (square). Tuples are often useful when you're working with data that shouldn't be modified, like constant parameters in a model of digital markets.\n",
    "\n",
    "Let's see how immutability works by comparing lists and tuples:"
   ]
  },
  {
   "cell_type": "code",
   "execution_count": null,
   "metadata": {},
   "outputs": [],
   "source": [
    "# Change the second element of the list to 1000\n",
    "number_list = [2, 3, 5, 8]\n",
    "number_list[1] = 1000    \n",
    "print(number_list)\n",
    "\n",
    "# Now try that with a tuple (this will throw an error)\n",
    "number_tuple[1] = 1000"
   ]
  },
  {
   "cell_type": "markdown",
   "metadata": {},
   "source": [
    "Tuples are useful to protect essential variables, such as market parameters, from accidental changes when analyzing the impact of policies, prices, or competition shifts."
   ]
  },
  {
   "cell_type": "markdown",
   "metadata": {},
   "source": [
    "# 3. Dictionaries <a id=\"dict\"></a> ([top](#home))\n",
    "Dictionaries (or dicts) are incredibly useful for handling datasets as key-value pairs, especially when you want to map categories (like product types or consumer segments) to specific values (such as prices, quantities, or preferences).\n",
    "\n",
    "A dict is an unordered collection where each element is a key-value pair. The keys must be unique, but values can repeat. For example, let’s map user subscription tiers to price levels:\n"
   ]
  },
  {
   "cell_type": "code",
   "execution_count": null,
   "metadata": {},
   "outputs": [],
   "source": [
    "# Subscription tiers mapped to prices\n",
    "subscription_prices = {'Basic': 5.99, 'Pro': 15.99, 'Premium': 29.99}\n",
    "\n",
    "print(type(subscription_prices))\n",
    "print(subscription_prices)"
   ]
  },
  {
   "cell_type": "markdown",
   "metadata": {},
   "source": [
    "In this dict, 'Basic', 'Pro', and 'Premium' are keys, while their associated values are prices. You reference values by their keys:"
   ]
  },
  {
   "cell_type": "code",
   "execution_count": null,
   "metadata": {},
   "outputs": [],
   "source": [
    "print(subscription_prices['Pro'])  # Returns 15.99"
   ]
  },
  {
   "cell_type": "code",
   "execution_count": null,
   "metadata": {},
   "outputs": [],
   "source": [
    "# What happens here? Will this return 'B'?\n",
    "print(grades[3.0])"
   ]
  },
  {
   "cell_type": "markdown",
   "metadata": {},
   "source": [
    "### Common mistake\n",
    "Attempting to reference a value directly will lead to an error:"
   ]
  },
  {
   "cell_type": "code",
   "execution_count": null,
   "metadata": {},
   "outputs": [],
   "source": [
    "# This will throw an error because dicts are referenced by keys, not values\n",
    "print(subscription_prices[15.99])"
   ]
  },
  {
   "cell_type": "markdown",
   "metadata": {},
   "source": [
    "You’ll encounter a `KeyError` since the system is looking for a key, not a value.\n",
    "\n",
    "### Adding / updating a dictionary\n",
    "Dictionaries are mutable, meaning you can add new elements or change existing values. For instance, if a new tier is introduced or prices are updated:"
   ]
  },
  {
   "cell_type": "code",
   "execution_count": null,
   "metadata": {},
   "outputs": [],
   "source": [
    "# Add a new subscription tier\n",
    "subscription_prices['Enterprise'] = 49.99\n",
    "print(subscription_prices)\n",
    "\n",
    "# Update the price of the 'Basic' tier\n",
    "subscription_prices['Basic'] = 6.99\n",
    "print(subscription_prices)"
   ]
  },
  {
   "cell_type": "markdown",
   "metadata": {},
   "source": [
    "Dictionaries are excellent for managing categories of products, services, or consumer segments, and they allow you to quickly access, update, and manipulate this data efficiently."
   ]
  },
  {
   "cell_type": "markdown",
   "metadata": {},
   "source": [
    "## <font color='firebrick'> Practice</font>\n",
    "Try the following exercises related to digital economics:\n",
    "\n",
    "1. Create a dictionary in the cell below representing the average time spent online (in hours) by users on various platforms for 2022.\n",
    "    - Keys: `'YouTube'`, `'Instagram'`, `'TikTok'`, `'Facebook'`\n",
    "    - Assign values to reflect your own estimates (e.g., YouTube: 3, Instagram: 2).\n",
    "    - Print your dictionary.\n",
    "\n",
    "2. Can you give two platforms the same time value?\n",
    "\n",
    "\n",
    "3. Assume a new report shows increased usage for TikTok, but Facebook's usage decreases\n",
    "    - Update TikTok's and Facebook\"s values to new estimates.\n",
    "    - Print the updated dictionary."
   ]
  },
  {
   "cell_type": "code",
   "execution_count": null,
   "metadata": {},
   "outputs": [],
   "source": []
  },
  {
   "cell_type": "markdown",
   "metadata": {},
   "source": [
    "**Here’s a more advanced example:**\n",
    "\n",
    "Consider the dictionary below representing revenue trends for major digital companies over three years:"
   ]
  },
  {
   "cell_type": "code",
   "execution_count": null,
   "metadata": {},
   "outputs": [],
   "source": [
    "digital_revenue = {'Year': [2018, 2019, 2020], 'Google': [136.8, 161.9, 182.5], 'Amazon': [232.9, 280.5, 386.1], 'Facebook': [55.8, 70.7, 85.9]}"
   ]
  },
  {
   "cell_type": "markdown",
   "metadata": {},
   "source": [
    "- What are the keys and values?\n",
    "- What do you think this data represents?\n",
    "- How might this dictionary help us understand digital companies' growth and dominance?\n",
    "\n",
    "Lastly, print the years and revenue for Amazon from the dictionary:"
   ]
  },
  {
   "cell_type": "code",
   "execution_count": null,
   "metadata": {},
   "outputs": [],
   "source": [
    "print(digital_revenue['Year'])\n",
    "print(digital_revenue['Amazon'])"
   ]
  },
  {
   "cell_type": "markdown",
   "metadata": {},
   "source": [
    "**Answer:**"
   ]
  }
 ],
 "metadata": {
  "kernelspec": {
   "display_name": "Python 3 (ipykernel)",
   "language": "python",
   "name": "python3"
  },
  "language_info": {
   "codemirror_mode": {
    "name": "ipython",
    "version": 3
   },
   "file_extension": ".py",
   "mimetype": "text/x-python",
   "name": "python",
   "nbconvert_exporter": "python",
   "pygments_lexer": "ipython3",
   "version": "3.11.4"
  }
 },
 "nbformat": 4,
 "nbformat_minor": 2
}
