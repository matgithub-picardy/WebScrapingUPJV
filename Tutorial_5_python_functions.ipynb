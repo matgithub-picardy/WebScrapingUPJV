{
 "cells": [
  {
   "cell_type": "markdown",
   "metadata": {},
   "source": [
    "# <font color = firebrick>Tutorial 5: Slicing and Functions </font><a id='home'></a>\n",
    "    \n",
    "In this tutorial, we continue to explore Python fundamentals, focusing on the essential skills needed for digital economics and data analysis. By the end, you’ll be able to work with data slices effectively, a key technique for handling user-generated data or breaking down large datasets. We’ll also introduce Python functions, which will help us streamline data processing in tasks such as web scraping or social media analytics.\n",
    "\n",
    "Topics covered:\n",
    "    \n",
    "1. [Slicing](#subsets)\n",
    "2. [Functions](#functions)\n",
    "3. [Objects and TAB completion](#tab)\n",
    "\n"
   ]
  },
  {
   "cell_type": "markdown",
   "metadata": {},
   "source": [
    "# Slicing <a id=\"subsets\"></a> ([top](#home))\n",
    "Slicing allows us to extract specific portions of data from lists, tuples, or strings. This is especially useful in digital economics when dealing with data such as time-series of website visits or breaking down sections of a large social media dataset. Python’s slicing syntax uses square brackets `[]` and works similarly across various data structures:\n",
    "\n",
    "```python\n",
    "data[start:stop:stride]\n",
    "```\n",
    "- `start`: The starting index (inclusive)\n",
    "- `stop`: The ending index (exclusive)\n",
    "- `stride`: Step size, or the number of elements to skip\n",
    "\n",
    "For example, we could use slicing to analyze the most recent website visitors or get every second data point in a user engagement log. The default step is 1, meaning it takes every element between start and stop by default."
   ]
  },
  {
   "cell_type": "code",
   "execution_count": 23,
   "metadata": {},
   "outputs": [
    {
     "name": "stdout",
     "output_type": "stream",
     "text": [
      "[105, 204, 304, 404, 505] # Initial list\n",
      "[105, 204]\n",
      "[105, 204, 304, 404]\n",
      "[105, 304, 505]\n"
     ]
    }
   ],
   "source": [
    "user_engagement = [105, 204, 304, 404, 505]\n",
    "\n",
    "print(user_engagement, '# Initial list') \n",
    "print(user_engagement[0:2])   # First two records\n",
    "print(user_engagement[0:4:1]) # Same as above with an explicit step of 1\n",
    "print(user_engagement[0:5:2]) # Every second record"
   ]
  },
  {
   "cell_type": "markdown",
   "metadata": {},
   "source": [
    "To slice from the beginning or to the end, omit the start or stop argument."
   ]
  },
  {
   "cell_type": "code",
   "execution_count": 24,
   "metadata": {},
   "outputs": [
    {
     "name": "stdout",
     "output_type": "stream",
     "text": [
      "[105, 204, 304, 404, 505] # Initial list\n",
      "[304, 404, 505]\n",
      "[105, 204, 304, 404]\n"
     ]
    }
   ],
   "source": [
    "print(user_engagement, '# Initial list') \n",
    "print(user_engagement[2:])    # From third to last record\n",
    "print(user_engagement[:4])    # First four records"
   ]
  },
  {
   "cell_type": "markdown",
   "metadata": {},
   "source": [
    "### Splitting data with slices\n",
    "Slicing helps when splitting data into segments, such as dividing user engagement metrics into two halves for comparison."
   ]
  },
  {
   "cell_type": "code",
   "execution_count": 29,
   "metadata": {},
   "outputs": [
    {
     "name": "stdout",
     "output_type": "stream",
     "text": [
      "[105, 204, 304, 404, 505] # Initial list\n",
      "[105, 204, 304] \n",
      " [404, 505]\n"
     ]
    }
   ],
   "source": [
    "print(user_engagement, '# Initial list') \n",
    "first_half = user_engagement[:3]\n",
    "second_half = user_engagement[3:]\n",
    "print(first_half, '\\n', second_half)"
   ]
  },
  {
   "cell_type": "markdown",
   "metadata": {},
   "source": [
    "### Slicing with negative indexes\n",
    "Negative indexing helps when you need the last few data points, such as the most recent user activity entries."
   ]
  },
  {
   "cell_type": "code",
   "execution_count": 30,
   "metadata": {},
   "outputs": [
    {
     "name": "stdout",
     "output_type": "stream",
     "text": [
      "[105, 204, 304, 404, 505] # Initial list\n",
      "[105, 204, 304, 404]\n",
      "[105, 204, 304]\n",
      "[204, 304]\n"
     ]
    }
   ],
   "source": [
    "print(user_engagement, '# Initial list') \n",
    "print(user_engagement[:-1])    # All but the last entry\n",
    "print(user_engagement[:-2])    # All but the last two entries\n",
    "print(user_engagement[-4:-2])  # Entries from the fourth-last to second-last"
   ]
  },
  {
   "cell_type": "markdown",
   "metadata": {},
   "source": [
    "### Using a negative step\n",
    "A negative stride lets us iterate in reverse, useful for reversing ordered data like chronological web activity."
   ]
  },
  {
   "cell_type": "code",
   "execution_count": 31,
   "metadata": {},
   "outputs": [
    {
     "name": "stdout",
     "output_type": "stream",
     "text": [
      "[105, 204, 304, 404, 505] # Initial list\n",
      "[505, 404, 304, 204, 105]\n",
      "[505, 404, 304]\n"
     ]
    }
   ],
   "source": [
    "print(user_engagement, '# Initial list') \n",
    "print(user_engagement[::-1])   # Reverses the list\n",
    "print(user_engagement[4:1:-1]) # Starts at index 4, goes back to index 2"
   ]
  },
  {
   "cell_type": "markdown",
   "metadata": {},
   "source": [
    "Slicing also works for strings, such as extracting hashtags from a social media post:"
   ]
  },
  {
   "cell_type": "code",
   "execution_count": 32,
   "metadata": {},
   "outputs": [
    {
     "name": "stdout",
     "output_type": "stream",
     "text": [
      "#d\n",
      "nolatigid#\n"
     ]
    }
   ],
   "source": [
    "tagline = '#digitalon'\n",
    "print(tagline[:2])        # Gets the '#'\n",
    "print(tagline[::-1])      # Reverses the hashtag"
   ]
  },
  {
   "cell_type": "markdown",
   "metadata": {},
   "source": [
    "## <font color='red'>Practice</font>\n",
    "\n",
    "Try these exercises to solidify your understanding of slicing:\n",
    "\n",
    "1. Create a variable `trend = 'Tech Economy'`\n",
    "2. Slice `trend` to create the variables `category` and `focus`\n",
    "3. Use negative indexing to create `category_ne` and `focus_neg` from `trend`"
   ]
  },
  {
   "cell_type": "code",
   "execution_count": null,
   "metadata": {},
   "outputs": [],
   "source": []
  },
  {
   "cell_type": "markdown",
   "metadata": {},
   "source": [
    "Now try with a sorted engagement dataset:"
   ]
  },
  {
   "cell_type": "code",
   "execution_count": null,
   "metadata": {},
   "outputs": [],
   "source": [
    "engagement_data = [125, 300, 800, 1200, 2000]"
   ]
  },
  {
   "cell_type": "markdown",
   "metadata": {},
   "source": [
    "4. Print out the 3 largest engagement values\n",
    "5. Print out the 2 smallest engagement values"
   ]
  },
  {
   "cell_type": "markdown",
   "metadata": {},
   "source": [
    "# 2. Functions<a id=\"functions\"></a> ([top](#home))\n",
    "In Python, we can create our own functions just like many other languages allow. Using functions helps us avoid redundancy by writing code once and reusing it multiple times, which is especially useful when working with data. Here's a simple example:"
   ]
  },
  {
   "cell_type": "code",
   "execution_count": 33,
   "metadata": {},
   "outputs": [],
   "source": [
    "def engagements_to_reach(engagements):\n",
    "    \"\"\"\n",
    "    Input an engagement count on a social media post. Estimate reach based on an average engagement rate of 5%.\n",
    "    \"\"\"\n",
    "    reach = engagements / 0.05  # Assume 5% engagement rate\n",
    "    return reach  # this is the value the function returns"
   ]
  },
  {
   "cell_type": "markdown",
   "metadata": {},
   "source": [
    "After running the cell above, the function `engagements_to_reach` is now available to use. We can use the `whos` statement to list all objects currently in memory, including this new function. \\[A namespace is a list of all the objects we have created and the names we have assigned them.\\]"
   ]
  },
  {
   "cell_type": "code",
   "execution_count": 34,
   "metadata": {},
   "outputs": [
    {
     "name": "stdout",
     "output_type": "stream",
     "text": [
      "Variable               Type        Data/Info\n",
      "--------------------------------------------\n",
      "engagements_to_reach   function    <function engagements_to_reach at 0x1075bcf40>\n",
      "estimated_reach        float       5000.0\n",
      "first_half             list        n=3\n",
      "first_part             list        n=3\n",
      "post_engagements       int         250\n",
      "second_half            list        n=2\n",
      "second_part            list        n=2\n",
      "slogan                 str         onward\n",
      "some_list              list        n=5\n",
      "tagline                str         #digitalon\n",
      "user_engagement        list        n=5\n"
     ]
    }
   ],
   "source": [
    "whos"
   ]
  },
  {
   "cell_type": "markdown",
   "metadata": {},
   "source": [
    "We can see the function `engagements_to_reach` listed as an object in our namespace. Now let's try using it to estimate the reach of a post based on engagements."
   ]
  },
  {
   "cell_type": "code",
   "execution_count": 35,
   "metadata": {},
   "outputs": [
    {
     "name": "stdout",
     "output_type": "stream",
     "text": [
      "The estimated reach of the post is 5000.0 users.\n"
     ]
    }
   ],
   "source": [
    "post_engagements = 250  # total likes, comments, shares\n",
    "estimated_reach = engagements_to_reach(post_engagements)\n",
    "print('The estimated reach of the post is', estimated_reach, 'users.')"
   ]
  },
  {
   "cell_type": "markdown",
   "metadata": {},
   "source": [
    "It’s good practice to check for potential issues in our functions to make them more robust."
   ]
  },
  {
   "cell_type": "code",
   "execution_count": 36,
   "metadata": {},
   "outputs": [
    {
     "ename": "TypeError",
     "evalue": "unsupported operand type(s) for /: 'str' and 'float'",
     "output_type": "error",
     "traceback": [
      "\u001b[0;31m---------------------------------------------------------------------------\u001b[0m",
      "\u001b[0;31mTypeError\u001b[0m                                 Traceback (most recent call last)",
      "Cell \u001b[0;32mIn[36], line 2\u001b[0m\n\u001b[1;32m      1\u001b[0m post_engagements \u001b[38;5;241m=\u001b[39m \u001b[38;5;124m'\u001b[39m\u001b[38;5;124m250\u001b[39m\u001b[38;5;124m'\u001b[39m  \u001b[38;5;66;03m# Engagements should be a number, but here it’s a string\u001b[39;00m\n\u001b[0;32m----> 2\u001b[0m estimated_reach \u001b[38;5;241m=\u001b[39m engagements_to_reach(post_engagements)\n\u001b[1;32m      3\u001b[0m \u001b[38;5;28mprint\u001b[39m(\u001b[38;5;124m'\u001b[39m\u001b[38;5;124mThe estimated reach of the post is\u001b[39m\u001b[38;5;124m'\u001b[39m, estimated_reach, \u001b[38;5;124m'\u001b[39m\u001b[38;5;124musers.\u001b[39m\u001b[38;5;124m'\u001b[39m)\n",
      "Cell \u001b[0;32mIn[33], line 5\u001b[0m, in \u001b[0;36mengagements_to_reach\u001b[0;34m(engagements)\u001b[0m\n\u001b[1;32m      1\u001b[0m \u001b[38;5;28;01mdef\u001b[39;00m \u001b[38;5;21mengagements_to_reach\u001b[39m(engagements):\n\u001b[1;32m      2\u001b[0m \u001b[38;5;250m    \u001b[39m\u001b[38;5;124;03m\"\"\"\u001b[39;00m\n\u001b[1;32m      3\u001b[0m \u001b[38;5;124;03m    Input an engagement count on a social media post. Estimate reach based on an average engagement rate of 5%.\u001b[39;00m\n\u001b[1;32m      4\u001b[0m \u001b[38;5;124;03m    \"\"\"\u001b[39;00m\n\u001b[0;32m----> 5\u001b[0m     reach \u001b[38;5;241m=\u001b[39m engagements \u001b[38;5;241m/\u001b[39m \u001b[38;5;241m0.05\u001b[39m  \u001b[38;5;66;03m# Assume 5% engagement rate\u001b[39;00m\n\u001b[1;32m      6\u001b[0m     \u001b[38;5;28;01mreturn\u001b[39;00m reach\n",
      "\u001b[0;31mTypeError\u001b[0m: unsupported operand type(s) for /: 'str' and 'float'"
     ]
    }
   ],
   "source": [
    "post_engagements = '250'  # Engagements should be a number, but here it’s a string\n",
    "estimated_reach = engagements_to_reach(post_engagements)\n",
    "print('The estimated reach of the post is', estimated_reach, 'users.')"
   ]
  },
  {
   "cell_type": "code",
   "execution_count": 37,
   "metadata": {},
   "outputs": [],
   "source": [
    "def engagements_to_reach_v2(engagements):\n",
    "    \"\"\"\n",
    "    Input an engagement count on a social media post. Estimate reach based on an average engagement rate of 5%.\n",
    "    \"\"\"\n",
    "    if isinstance(engagements, (int, float)):\n",
    "        reach = engagements / 0.05\n",
    "        return reach\n",
    "    else:\n",
    "        print('error: engagements_to_reach_v2 expects a number as input.')\n",
    "        return None"
   ]
  },
  {
   "cell_type": "code",
   "execution_count": 38,
   "metadata": {},
   "outputs": [
    {
     "name": "stdout",
     "output_type": "stream",
     "text": [
      "error: engagements_to_reach_v2 expects a number as input.\n",
      "The estimated reach of the post is None users.\n"
     ]
    }
   ],
   "source": [
    "post_engagements = '250'\n",
    "estimated_reach = engagements_to_reach_v2(post_engagements)\n",
    "print('The estimated reach of the post is', estimated_reach, 'users.')"
   ]
  },
  {
   "cell_type": "markdown",
   "metadata": {},
   "source": [
    "When writing code, it’s a balance between how much time we invest in handling errors and how robust our code needs to be. Now, let’s explore functions with multiple input variables."
   ]
  },
  {
   "cell_type": "code",
   "execution_count": null,
   "metadata": {},
   "outputs": [],
   "source": [
    "def user_name_formatter(first, handle, last):\n",
    "    \"\"\"\n",
    "    Formats a user's full name and handle (e.g., for a profile display).\n",
    "    \"\"\"\n",
    "    return first.title() + ' ' + last.title() + ' (' + handle.lower() + ')'"
   ]
  },
  {
   "cell_type": "code",
   "execution_count": null,
   "metadata": {},
   "outputs": [],
   "source": [
    "first_name = 'ALex'\n",
    "handle = '@aLexCode'\n",
    "last_name = 'johnson'\n",
    "formatted_name = user_name_formatter(first_name, handle, last_name)\n",
    "print(formatted_name)"
   ]
  },
  {
   "cell_type": "markdown",
   "metadata": {},
   "source": [
    "**Important:** We can assign multiple return values using multiple assignment. This allows us to return more than one result from a function. Let's see how."
   ]
  },
  {
   "cell_type": "code",
   "execution_count": null,
   "metadata": {},
   "outputs": [],
   "source": [
    "user_id, post_count = 12345, 98\n",
    "print(user_id, post_count)"
   ]
  },
  {
   "cell_type": "markdown",
   "metadata": {},
   "source": [
    "Multiple assignment also makes it easier to swap values. For example, swapping two digital IDs can be done in one line:"
   ]
  },
  {
   "cell_type": "code",
   "execution_count": null,
   "metadata": {},
   "outputs": [],
   "source": [
    "id_a = 1001\n",
    "id_b = 2002\n",
    "print('Before swap: id_a=', id_a, 'id_b=', id_b)\n",
    "id_a, id_b = id_b, id_a\n",
    "print('After swap: id_a=', id_a, 'id_b=', id_b)"
   ]
  },
  {
   "cell_type": "markdown",
   "metadata": {},
   "source": [
    "Multiple assignment can be useful for functions that need to return multiple values. Here’s an example with a function that calculates both the bounce rate and conversion rate of a web page."
   ]
  },
  {
   "cell_type": "code",
   "execution_count": null,
   "metadata": {},
   "outputs": [],
   "source": [
    "def web_metrics(visits, bounces, conversions):\n",
    "    \"\"\"\n",
    "    Calculate the bounce rate and conversion rate based on web traffic data.\n",
    "    \"\"\"\n",
    "    bounce_rate = (bounces / visits) * 100\n",
    "    conversion_rate = (conversions / visits) * 100\n",
    "    return bounce_rate, conversion_rate\n",
    "page_visits = 500\n",
    "page_bounces = 150\n",
    "page_conversions = 50\n",
    "bounce, conversion = web_metrics(page_visits, page_bounces, page_conversions)\n",
    "print(f\"Bounce Rate: {bounce:.2f}% | Conversion Rate: {conversion:.2f}%\")"
   ]
  },
  {
   "cell_type": "markdown",
   "metadata": {},
   "source": [
    "## <font color='red'> Practice</font>\n",
    "Take a few minutes and try the following:\n",
    "1. Write a function to calculate the average watch time per user on a streaming platform. Pass in total minutes watched and number of users. Test it with 1500 total minutes and 100 users."
   ]
  },
  {
   "cell_type": "markdown",
   "metadata": {},
   "source": [
    "2. Modify the `user_name_formatter()` function to return both the formatted name and the character count (without spaces). Use multiple assignment."
   ]
  },
  {
   "cell_type": "markdown",
   "metadata": {},
   "source": [
    "3. The `split(delim)` string method is useful for breaking up a string into sub-strings, such as hashtags in a social media post. The argument `delim` specifies the delimiter. Example:"
   ]
  },
  {
   "cell_type": "code",
   "execution_count": null,
   "metadata": {},
   "outputs": [],
   "source": [
    "post_text = 'Check out #DigitalEconomy #TechTrends #FutureOfWork'\n",
    "hashtags = post_text.split('#')  # Use hashtag as the delimiter\n",
    "print(hashtags)"
   ]
  },
  {
   "cell_type": "markdown",
   "metadata": {},
   "source": [
    "# 3. Objects and TAB completion <a id=\"tab\"></a> ([top](#home))\n",
    "Python, like C++ or JavaScript, is an object-oriented language. While a computer science course could spend weeks on object-oriented programming, our goal here is to understand objects well enough to use them effectively.\n",
    "\n",
    "In Python, *everything* is an object. Variables, functions, lists, and even strings are all objects. This is useful because objects come with built-in **attributes** and **methods** that allow us to interact with them in powerful ways. The specific attributes and methods an object has depend on its *type*. Let's look at lists, for example:\n",
    "\n",
    "```python\n",
    "list_1 = ['a', 'b', 'c']\n",
    "list_2 = [4, 5, 6, 7, 8]\n",
    "```\n",
    "\n",
    "Both `list_1` and `list_2` are objects of type `list`, but their **attributes** may vary. For instance, list length is an attribute: `list_1` has length 3, while `list_2` has length 5.\n",
    "\n",
    "**Methods** are like functions that are built into an object. Each object type has different methods available, which we access using 'dot' notation. For example:\n",
    "\n",
    "```python\n",
    "list_1.method()\n",
    "```\n",
    "\n",
    "In this case, `method()` is a method tied to the list type. We've already used methods like `lower()`, `upper()`, and `title()` with strings."
   ]
  },
  {
   "cell_type": "code",
   "execution_count": null,
   "metadata": {},
   "outputs": [],
   "source": [
    "list_1 = ['a', 'c', 'b']\n",
    "print(list_1)"
   ]
  },
  {
   "cell_type": "code",
   "execution_count": null,
   "metadata": {},
   "outputs": [],
   "source": [
    "list_1.sort()        # Using the sort() method from the 'list' type\n",
    "print(list_1)"
   ]
  },
  {
   "cell_type": "markdown",
   "metadata": {},
   "source": [
    "### Finding methods\n",
    "How do we find out what methods are available for an object? A quick web search can help, but there's also a useful feature in Jupyter: **TAB completion**.\n",
    "\n",
    "To try it, type `list_1.` in the cell below and press the TAB key."
   ]
  },
  {
   "cell_type": "code",
   "execution_count": null,
   "metadata": {},
   "outputs": [],
   "source": []
  },
  {
   "cell_type": "markdown",
   "metadata": {},
   "source": [
    "Pressing TAB will show a list of available methods. For example, `append()` and `reverse()` are useful list methods. Let's try `reverse()`:"
   ]
  },
  {
   "cell_type": "code",
   "execution_count": null,
   "metadata": {},
   "outputs": [],
   "source": [
    "list_1.reverse()\n",
    "print(list_1)"
   ]
  },
  {
   "cell_type": "markdown",
   "metadata": {},
   "source": [
    "TAB completion also helps with variable names. Type `lis` and press TAB, and you'll see all variables in your current namespace that start with `lis`. This is especially handy for avoiding typos and saving time!"
   ]
  },
  {
   "cell_type": "markdown",
   "metadata": {},
   "source": [
    "## <font color='firebrick'>Practice</font>\n",
    "\n",
    "Take a few minutes to try the following. Work with those around you if you need help:\n",
    "\n",
    "1. Given `gdp = '18,570.50'`, convert it to a float. Use TAB completion (and Google, if needed) to find a method that removes the comma.\n"
   ]
  },
  {
   "cell_type": "code",
   "execution_count": null,
   "metadata": {},
   "outputs": [],
   "source": []
  },
  {
   "cell_type": "markdown",
   "metadata": {},
   "source": [
    "2. Sort the list below, then use TAB completion (`.`) and the object inspector (`?`) to insert `new_score` into the list in the correct position so it stays sorted."
   ]
  },
  {
   "cell_type": "code",
   "execution_count": null,
   "metadata": {},
   "outputs": [],
   "source": []
  }
 ],
 "metadata": {
  "kernelspec": {
   "display_name": "Python 3 (ipykernel)",
   "language": "python",
   "name": "python3"
  },
  "language_info": {
   "codemirror_mode": {
    "name": "ipython",
    "version": 3
   },
   "file_extension": ".py",
   "mimetype": "text/x-python",
   "name": "python",
   "nbconvert_exporter": "python",
   "pygments_lexer": "ipython3",
   "version": "3.11.4"
  }
 },
 "nbformat": 4,
 "nbformat_minor": 4
}
