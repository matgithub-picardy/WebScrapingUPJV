{
 "cells": [
  {
   "cell_type": "markdown",
   "metadata": {
    "slideshow": {
     "slide_type": ""
    },
    "tags": []
   },
   "source": [
    "# <font color = firebrick>Tutorial 1: Jupyter notebooks</font> <a id='home'></a>\n",
    "\n",
    "In this notebook, we will learn about and use the Jupyter notebooks:\n",
    "\n",
    "1. [What is a Jupyter notebook?](#jupyter)\n",
    "2. [Working on notebooks.](#open)\n",
    "3. [Markdown and code cells](#cells)\n",
    "\n",
    "So let's get started! Although notebooks are designed to be intuitive, all questions are legitimate and welcome!"
   ]
  },
  {
   "cell_type": "markdown",
   "metadata": {},
   "source": [
    "## 1. What is a Jupyter notebook? <a id=\"jupyter\"></a> ([top](#home))\n",
    "There are several ways of writing and executing Python code. A straightforward method is to write your code in a text file, save it, and then execute it using an interpreter. This separates the code from the output.\n",
    "\n",
    "We use Jupyter notebooks, which **combine both input (code) and output (results)** in the same document. A notebook also allows us to include text, providing useful material to explain what the code does. The **text is written in markdown**, a formatting tool that offers more options. Markdown will be discussed in more detail later.\n",
    "\n",
    "What you need to concentrate on is the document displayed in your web browser - which is the notebook itself! In fact, right now, you're reading a markdown cell, which contains text.\n",
    "\n",
    "The cell following this cell is a code cell preceded by the word “In”. \n",
    "\n",
    "**Task #1:**\n",
    "- Place your cursor over the code cell below, and type 33*2.\n",
    "- Press **“Ctrl+Enter”** or click the \"black triangle\" above the notebook to execute the cell.\n",
    "\n",
    "What happens?"
   ]
  },
  {
   "cell_type": "code",
   "execution_count": null,
   "metadata": {},
   "outputs": [],
   "source": []
  },
  {
   "cell_type": "markdown",
   "metadata": {},
   "source": [
    "You've just completed your first calculation in Python thanks to this interactive notebook, which is very practical because it's immediate. Between the code cells, text cells describe what we're doing.\n",
    "\n",
    "**Task #2:**\n",
    "- Insert a new cell (code or text) via the “Insert” menu\n",
    "- Transform the cell you've just inserted into a markdown cell (drop-down menu above the notebook). "
   ]
  },
  {
   "cell_type": "markdown",
   "metadata": {},
   "source": [
    "## 2. Working on notebooks<a id=\"open\"></a>  ([top](#home))\n",
    "You've now started working with this notebook and running Python code. This was a simple first step in an already existing and open notebook. Now let's see how to open, create and save a notebook.\n",
    "\n",
    "### Start Jupyter\n",
    "1. In the Windows search menu, type “jupyter” and click on “Jupyter Notebook”.\n",
    "2. A console and browser will open, but we don't need to use the console because the notebook content is displayed directly in the browser. \n",
    "NOTE: for MAC, the steps are similar. Open “Terminal” and type “jupyter notebook” at the command line. Your main web browser should open.\n",
    "Closing the console/terminal stops the notebook session (without necessarily closing it). When you're finished, you can close it with the Control-C “ shortcut. \n",
    "\n",
    "### Opening a notebook\n",
    "1. In the browser, navigate to the folder containing the notebook you wish to open. Remember: notebooks end with “ipynb” (short for IPython Notebook). \n",
    "2. Click on the notebook to open it.\n",
    "\n",
    "### Creating a new notebook\n",
    "In the browser window, look for the “+” button at the top left. Choose 'Python 3' for a new notebook.\n",
    "\n",
    "### Save a notebook\n",
    "Save from the 'File' menu, the disk icon or the 'Ctrl+S' shortcut. \n",
    "\n",
    "### Closing a notebook\n",
    "Close the tab in which the notebook is open. Note: be careful to close only the tab and not the browser!"
   ]
  },
  {
   "cell_type": "markdown",
   "metadata": {},
   "source": [
    "## <font color = firebrick>Practice</font>\n",
    "1. Create a new notebook and name it 'myFirst_notebook'.\n",
    "2. Change the first cell into a markdown cell. Type \"Hello world\" in the cell and run the cell.\n",
    "3. Save the notebook and close it. \n",
    "\n",
    "Now look back to the file panel. Can you see your notebook?\n",
    "1. Open your notebook.\n",
    "2. From the 'File' menu, make a copy of the notebook and rename it 'myFirst_notebook_v2'.\n",
    "3. In \"myFirst_notebook_v2\", type the names of three classes you are taking this semester in a new cell\n",
    "4. Save your notebook and close it."
   ]
  },
  {
   "cell_type": "markdown",
   "metadata": {},
   "source": [
    "## 3. Markdown and code cells<a id=\"cells\"></a> ([top](#home))\n",
    "\n",
    "### 3.1 Markdown \n",
    "\n",
    "Markdown is a simple “markup” language. The aim of Markdown is to provide a very simple set of commands for formatting text: headings, lists, links, italic text, bold text, etc. to make text easier to read.\n",
    "Read the markdown control sheet available [here](https://dataplatform.cloud.ibm.com/docs/content/wsj/analyze-data/markd-jupyter.html?context=cpdaas) for a list of commands, or look at the source code of the cells you're reading by double-clicking on them (“Ctrl+Enter” to launch the return to normal appearance).\n"
   ]
  },
  {
   "cell_type": "markdown",
   "metadata": {},
   "source": [
    "**Task #3:** In the cell below, create three levels of headings. ``# Heading 1`` will generate the first-level heading. Can you deduce how to obtain the second and third level headings? \n"
   ]
  },
  {
   "cell_type": "markdown",
   "metadata": {},
   "source": [
    "# Heading 1"
   ]
  },
  {
   "cell_type": "markdown",
   "metadata": {},
   "source": [
    "**Task #4:** In the cell below, type ``**bold**`` and ``*italics*``. ``~~crossed_out~~`` may generate many mistakes. What happens in the cell if you type: ``___`` (three underscores in a row)?"
   ]
  },
  {
   "cell_type": "markdown",
   "metadata": {},
   "source": [
    "**bold**\n",
    "*italics*"
   ]
  },
  {
   "cell_type": "raw",
   "metadata": {},
   "source": [
    "You may have noticed that the text changes color depending on the command selected (bold, italic, etc.). This makes your formatting much easier to read!"
   ]
  },
  {
   "cell_type": "markdown",
   "metadata": {},
   "source": [
    "### Lists\n",
    "An unordered list uses asterisks. In the cell below, try \n",
    "```\n",
    "* Bun\n",
    "* Soy steak \n",
    "* Cheese\n",
    "* Lettuce\n",
    "* Tomato\n",
    "```\n",
    "and run the cell (Shift+Enter). Is the behavior different than when you type ctrl-enter? "
   ]
  },
  {
   "cell_type": "markdown",
   "metadata": {},
   "source": []
  },
  {
   "cell_type": "markdown",
   "metadata": {},
   "source": [
    "**Task #5:** Try an ordered list\n",
    "```\n",
    "1. Aisne\n",
    "2. Nord\n",
    "3. Oise\n",
    "4. Pas-de-Calais\n",
    "5. Somme \n",
    "```\n",
    "and run the cell. "
   ]
  },
  {
   "cell_type": "markdown",
   "metadata": {},
   "source": []
  },
  {
   "cell_type": "markdown",
   "metadata": {},
   "source": [
    "**Task #6:** Try to add sub-items to the entries.\n",
    "```\n",
    "1. Aisne\n",
    "    1.\n",
    "    2. \n",
    "2. Nord\n",
    "3. Oise\n",
    "4. Pas-de-Calais\n",
    "5. Somme\n",
    "    1. Amiens (Admin. center)\n",
    "    2. Abbeville (Subpref.)\n",
    "    3. Montdidier (Subpref.)\n",
    "    4. Péronne (Subpref.)\n",
    "```\n",
    "\n",
    "What happens when you run the cell? How do you add a third level to the list?"
   ]
  },
  {
   "cell_type": "markdown",
   "metadata": {},
   "source": []
  },
  {
   "cell_type": "markdown",
   "metadata": {},
   "source": [
    "### 3.2 Code\n",
    "It's often useful to write code snippets in your text. Use the backticks (find it on your keyboard!) to write code. In the cell below, type `` `x=2` ``. What happens?"
   ]
  },
  {
   "cell_type": "markdown",
   "metadata": {},
   "source": []
  },
  {
   "cell_type": "markdown",
   "metadata": {},
   "source": [
    "Now try a block of code with three backticks in the cell below:\n",
    "\n",
    "\\`\\`\\`\n",
    "\n",
    "python\n",
    "\n",
    "s = 10\n",
    "\n",
    "print(s)\n",
    "\n",
    "\\`\\`\\`\n"
   ]
  },
  {
   "cell_type": "markdown",
   "metadata": {},
   "source": []
  },
  {
   "cell_type": "markdown",
   "metadata": {},
   "source": [
    "## <font color = firebrick> Practice </font>\n",
    "\n",
    "Open your 'myFirst_notebook_v2' notebook and insert a markdown cell to:\n",
    "1. Format a title \"Title 1\" as a level-1 header\n",
    "3. Format your list of courses into an unordered list\n",
    "4. Make the course you prefer in bold font, maybe this course. ;)\n",
    "\n",
    "then:\n",
    "\n",
    "5. Insert a code cell below and write within the cell: \n",
    "\n",
    "```python\n",
    "s = 'a string'\n",
    "print(s)\n",
    "``` "
   ]
  },
  {
   "cell_type": "code",
   "execution_count": null,
   "metadata": {},
   "outputs": [],
   "source": []
  }
 ],
 "metadata": {
  "celltoolbar": "Attachments",
  "kernelspec": {
   "display_name": "Python 3 (ipykernel)",
   "language": "python",
   "name": "python3"
  },
  "language_info": {
   "codemirror_mode": {
    "name": "ipython",
    "version": 3
   },
   "file_extension": ".py",
   "mimetype": "text/x-python",
   "name": "python",
   "nbconvert_exporter": "python",
   "pygments_lexer": "ipython3",
   "version": "3.11.4"
  }
 },
 "nbformat": 4,
 "nbformat_minor": 4
}
