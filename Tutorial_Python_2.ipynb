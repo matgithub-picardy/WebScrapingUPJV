{
 "cells": [
  {
   "cell_type": "markdown",
   "metadata": {},
   "source": [
    "# <font color = firebrick>Tutorial 2: Python data</font> <a id='home'></a>\n",
    "\n",
    "Before we start to work with data, we need to learn the basics of Python. The objective is to learn enough to be able to do interesting work with data without fully knowing Python.\n",
    "\n",
    "In this notebook, we will focus on the following points:\n",
    "1. [Assignment](#assignment)\n",
    "2. [Calculation](#calculation)\n",
    "3. [Help](#help)\n",
    "4. [Strings](#strings)\n",
    "5. [Formatted printing](#print)"
   ]
  },
  {
   "cell_type": "markdown",
   "metadata": {},
   "source": [
    "# 1. Variable assignment<a id=\"assignment\"></a> ([top](#home))\n",
    "Run the following code block (Sift+Enter). What does the code do?"
   ]
  },
  {
   "cell_type": "code",
   "execution_count": null,
   "metadata": {},
   "outputs": [],
   "source": [
    "# Create and assign the value 10 to the variable x\n",
    "x = 10 # Indeed, we've created and assigned the value 10 to the variable x\n",
    "\n",
    "# Print the value of x as an output\n",
    "print(x)"
   ]
  },
  {
   "cell_type": "markdown",
   "metadata": {},
   "source": [
    "Let's try to understand the code above by reading line by line.\n",
    "- __line 1:__ The pound sign (\\#) in code indicates a comment. The Python interpreter ignores this comment line. The comment can appear at the beginning of a line or after a line of code.\n",
    "- __ligne 2:__ The variable ``x``  is created with the *value* 23. \n",
    "- __line 5:__ The Python interpreter prints the value of the ``x`` variable, i.e. ``23``. The ``print()`` function is a built-in Python function. More on this later."
   ]
  },
  {
   "cell_type": "code",
   "execution_count": null,
   "metadata": {},
   "outputs": [],
   "source": [
    "# Variable names generally need to be self-explanatory in order to be readable.\n",
    "my_followers = 4000   # Maybe I'm a little younger or a little older!\n",
    "print(my_followers)"
   ]
  },
  {
   "cell_type": "markdown",
   "metadata": {},
   "source": [
    "The underscore symbol in the variable name makes it more readable. Variable names must start with a letter or an underscore, and can include letters, numbers, and underscores. Variable names are case sensitive. \n",
    "\n",
    "**Task 1:** Before running the code below, try to guess the output."
   ]
  },
  {
   "cell_type": "code",
   "execution_count": null,
   "metadata": {},
   "outputs": [],
   "source": [
    "myFollowers = 500     # My current social media followers\n",
    "myfollowers = 1500    # After a successful marketing campaign\n",
    "MYFOLLOWERS = 10000   # With a viral post, I reached a new milestone\n",
    "my_followers_2 = 100  # When I first started\n",
    "\n",
    "print(myFollowers)\n",
    "print(myfollowers, MYFOLLOWERS)\n",
    "print(my_followers, my_followers_2, myFollowers)"
   ]
  },
  {
   "cell_type": "markdown",
   "metadata": {},
   "source": [
    "Multiple variables can be printed using the same print statement. Note that the `my_platform_age` variable in the previous code cell is still available in the later code cells. What happens when you execute the following codes?"
   ]
  },
  {
   "cell_type": "code",
   "execution_count": null,
   "metadata": {},
   "outputs": [],
   "source": [
    "2_my_followers = 5 "
   ]
  },
  {
   "cell_type": "code",
   "execution_count": null,
   "metadata": {},
   "outputs": [],
   "source": [
    "# Assign the value in my_age_2 to another variable\n",
    "my_followers_3 = my_followers_2\n",
    "print(my_followers_2, my_followers_3)\n",
    "\n",
    "my_followers_2 = 17\n",
    "print(my_followers_2, my_followers_3)"
   ]
  },
  {
   "cell_type": "markdown",
   "metadata": {},
   "source": [
    "# 2. Calculation<a id=\"calculation\"></a> ([top](#home))\n",
    "Computer calculators can very powerful. Run the cell below and see what happens."
   ]
  },
  {
   "cell_type": "code",
   "execution_count": null,
   "metadata": {},
   "outputs": [],
   "source": [
    "# Multiplication of user engagement metrics\n",
    "user_growth_rate = 2 * 3\n",
    "active_users = 2 * 3   # Does whitespace matter for this calculation?\n",
    "monthly_engagement = 2     *     3     \n",
    "\n",
    "print('Here are the user growth rate, active users, and monthly engagement:')\n",
    "print(user_growth_rate, active_users, monthly_engagement)\n",
    "\n",
    "# Multiply two key metrics\n",
    "total_engagement = user_growth_rate * active_users\n",
    "print('What is the total engagement (growth rate x active users)?')\n",
    "print(total_engagement)"
   ]
  },
  {
   "cell_type": "markdown",
   "metadata": {},
   "source": [
    "The `print()` function is used here to directly print messages that are enclosed in single quotation marks. A string variable is printed. More on this later."
   ]
  },
  {
   "cell_type": "code",
   "execution_count": null,
   "metadata": {},
   "outputs": [],
   "source": [
    "# Division of revenue metrics\n",
    "average_revenue_per_user = 10 / 2\n",
    "ad_revenue_per_click = 20 / 5\n",
    "subscription_rate = 6 / 4\n",
    "\n",
    "print('Here are the average revenue per user, ad revenue per click, and subscription rate:')\n",
    "print(average_revenue_per_user, ad_revenue_per_click, subscription_rate)"
   ]
  },
  {
   "cell_type": "markdown",
   "metadata": {},
   "source": [
    "Using division results in answers displayed with decimal points, which was not the case with multiplication. Python creates variables of different types. \n",
    "\n",
    "**Every object in Python has a type:** integer, float, string, list, etc., which we'll introduce in the following. So far, we've mainly used integers. Here, dividing the integer 10 by 2 creates the float 5.0. The type of a variable can be accessed with the function “type()”."
   ]
  },
  {
   "cell_type": "code",
   "execution_count": null,
   "metadata": {},
   "outputs": [],
   "source": [
    "print('The variable average_revenue_per_user has the value:', average_revenue_per_user,\n",
    "      'and the type:', type(average_revenue_per_user))\n",
    "\n",
    "print('\\n') # line break\n",
    "\n",
    "print('The variable user_growth_rate has the value:', user_growth_rate,\n",
    "      'and the type:', type(user_growth_rate))"
   ]
  },
  {
   "cell_type": "code",
   "execution_count": null,
   "metadata": {},
   "outputs": [],
   "source": [
    "# Exponential growth in user base (note that it is not ^ but **)\n",
    "initial_users = 2**3  # Represents growth over 3 time periods\n",
    "\n",
    "print('This is the initial user base after exponential growth:', initial_users)"
   ]
  },
  {
   "cell_type": "code",
   "execution_count": null,
   "metadata": {},
   "outputs": [],
   "source": [
    "# Natural logarithm often model diminishing returns or growth rates.\n",
    "digital_users = 10\n",
    "log_users = log(digital_users)\n",
    "\n",
    "print('The natural log of the number of users is:', log_users)"
   ]
  },
  {
   "cell_type": "markdown",
   "metadata": {},
   "source": [
    "What happened? Natural logarithm is not one of Python's pre-built functions... but we can add packages with new functions to Python! The numpy package includes many numerical functions, including log. To use the functions in a package, you must first import it."
   ]
  },
  {
   "cell_type": "code",
   "execution_count": null,
   "metadata": {},
   "outputs": [],
   "source": [
    "# Import the numpy package and give it the shorter name np.\n",
    "import numpy as np\n",
    "\n",
    "# To use a function from the numpy package, we use the 'dot' syntax\n",
    "log_users = np.log(digital_users)\n",
    "print(log_users)\n",
    "\n",
    "# The opposite of the natural log is the exponential function\n",
    "should_be_log_users = np.exp(log_users)\n",
    "print(should_be_log_users)"
   ]
  },
  {
   "cell_type": "markdown",
   "metadata": {},
   "source": [
    "No need to worry about packages and the \"dot\" syntax at the moment. The most important thing is to understand that there are **many functions in countless packages**.\n",
    "\n",
    "The 4 short problems in Internet economics below will take you a few minutes to complete, and will allow you to test your knowledge of Python."
   ]
  },
  {
   "cell_type": "markdown",
   "metadata": {},
   "source": [
    "## <font color='firebrick'> Practice</font>\n",
    "\n",
    "1. Suppose you lend $300 to a small digital startup for one year at a 5\\% interest rate. Calculate the repayment amount? For this, you will create the variable ``principal`` and set it to 300 and the variable `i` and set it to 0.05. Create a variable named `payoff` to hold the payoff amount. Print the value of the payoff."
   ]
  },
  {
   "cell_type": "code",
   "execution_count": null,
   "metadata": {},
   "outputs": [],
   "source": []
  },
  {
   "cell_type": "markdown",
   "metadata": {},
   "source": [
    "2. Consider the growth of an online user base for a digital platform with 5 users in the first month and one more the next month.\n",
    "\n",
    "In a code cell, enter:\n",
    "\n",
    "```python\n",
    "users = 5\n",
    "users = users + 1\n",
    "```\n",
    "\n",
    "and run the cell. What is the new value of users?"
   ]
  },
  {
   "cell_type": "code",
   "execution_count": null,
   "metadata": {},
   "outputs": [],
   "source": [
    "users = 5\n",
    "users = users + 1"
   ]
  },
  {
   "cell_type": "markdown",
   "metadata": {},
   "source": [
    "3. Let's continue with the user base example for a digital platform. Suppose the platform adds one more user each month. In the code cell below, enter:\n",
    "```python\n",
    "users=users+1\n",
    "print(users)\n",
    "``` \n",
    "and run the code. What happened? "
   ]
  },
  {
   "cell_type": "code",
   "execution_count": null,
   "metadata": {},
   "outputs": [],
   "source": [
    "users=users+1\n",
    "print(users)"
   ]
  },
  {
   "cell_type": "markdown",
   "metadata": {},
   "source": [
    "Rerun the previous cell. What is the value of `users`? Rerun the cell again. And again. What is happening? "
   ]
  },
  {
   "cell_type": "markdown",
   "metadata": {},
   "source": [
    "In the cell below, change the format of `users` with the following code: \n",
    "```python\n",
    "print('Unformated users:', users)\n",
    "print('Formated users: %6.2e'% (users)\n",
    "```"
   ]
  },
  {
   "cell_type": "code",
   "execution_count": null,
   "metadata": {},
   "outputs": [],
   "source": []
  },
  {
   "cell_type": "markdown",
   "metadata": {},
   "source": [
    "Fix the error in the code above by adding a closing bracket. Run the code.\n",
    "\n",
    "The second line changes the format of the printed output. The '6' says 'allocate 6 places for the printout'. The '2' says 'print two decimal points.' The 'f' says 'present the information as fixed' (rather than, say, exponential) format."
   ]
  },
  {
   "cell_type": "markdown",
   "metadata": {},
   "source": [
    "4. In a code cell, set `downloads_morning = 200` and `downloads_afternoon = 300`. Write some code that swaps the values of `downloads_morning` and `downloads_afternoon`.  "
   ]
  },
  {
   "cell_type": "code",
   "execution_count": null,
   "metadata": {},
   "outputs": [],
   "source": []
  },
  {
   "cell_type": "markdown",
   "metadata": {},
   "source": [
    "# 3. Help<a id=\"help\"></a> ([top](#home))\n",
    "The Jupyter Notebook has an easy way to get help about an object. In a code cell below, enter `print?` to learn about the print function. "
   ]
  },
  {
   "cell_type": "code",
   "execution_count": null,
   "metadata": {},
   "outputs": [],
   "source": [
    "print?"
   ]
  },
  {
   "cell_type": "markdown",
   "metadata": {},
   "source": [
    "Now try `users?`"
   ]
  },
  {
   "cell_type": "code",
   "execution_count": null,
   "metadata": {},
   "outputs": [],
   "source": [
    "users?"
   ]
  },
  {
   "cell_type": "markdown",
   "metadata": {},
   "source": [
    "In general, we can use the `?` to learn about any object in our programs."
   ]
  },
  {
   "cell_type": "markdown",
   "metadata": {},
   "source": [
    "# 4. Strings <a id=\"strings\"></a> ([top](#home))\n",
    "Strings are sets of characters. Python allows to manipulate strings very easily, which is not the case with languages such as MATLAB and STATA. In Python, strings are enclosed in quotation marks to assign them to variables. You can use either single or double quotation marks\n",
    "\n",
    "These are all legitimate strings:\n",
    "\n",
    "```python\n",
    "name = 'Jeff Bezos'\n",
    "company = \"Amazon\"\n",
    "zip_code = '98109'\n",
    "```\n",
    "\n",
    "Notice that `zip_code` looks like an integer, but... it's not! Enter these three strings in a code window. Then try `z = zip_code/3`."
   ]
  },
  {
   "cell_type": "code",
   "execution_count": null,
   "metadata": {},
   "outputs": [],
   "source": []
  },
  {
   "cell_type": "code",
   "execution_count": null,
   "metadata": {},
   "outputs": [],
   "source": [
    "print(type(zip_code))\n",
    "print(zip_code)"
   ]
  },
  {
   "cell_type": "markdown",
   "metadata": {},
   "source": [
    "We asked Python to divide a string by an integer... which it can't do.\n",
    "\n",
    "However, Python does know how to do small “calculations” with strings. Open a code cell and try this:\n",
    "```python\n",
    "first = 'Sundar'\n",
    "last = 'Pichai'\n",
    "name = first + last\n",
    "print(name)\n",
    "```"
   ]
  },
  {
   "cell_type": "code",
   "execution_count": null,
   "metadata": {},
   "outputs": [],
   "source": []
  },
  {
   "cell_type": "markdown",
   "metadata": {},
   "source": [
    "What does `first*2` do? What about `2*first`?"
   ]
  },
  {
   "cell_type": "code",
   "execution_count": null,
   "metadata": {},
   "outputs": [],
   "source": [
    "print(first*2)"
   ]
  },
  {
   "cell_type": "code",
   "execution_count": null,
   "metadata": {},
   "outputs": [],
   "source": [
    "print(2*first)"
   ]
  },
  {
   "cell_type": "markdown",
   "metadata": {},
   "source": [
    "### Quotation marks\n",
    "\n",
    "Single and double quotation marks can be used without distinction. The instructions `first_name = 'Jeff'` and `first_name = “ Jeff”` do the same thing. \n",
    "\n",
    "Nevertheless, double quotation marks are needed when the string contains a single quotation mark. The instruction \n",
    "```python\n",
    "definition = \"Digital economy pure players don't have bricks-and-mortar retail space\" \n",
    "```\n",
    "\n",
    "works because the Python interpreter knows that the string is contained in double quotes, so it treats the single quote as a character. In a code cell, try: \n",
    "```python\n",
    "definition = \"They don't have a physical store\"\n",
    "```\n",
    "and\n",
    "```python\n",
    "definition = 'They don't have a physical store'\n",
    "```\n"
   ]
  },
  {
   "cell_type": "markdown",
   "metadata": {},
   "source": [
    "Finally, triple quotes (with single or double characters) are useful for creating strings that span several lines:\n",
    "```\n",
    "Zuboff_quote = \"\"\"\n",
    "Surveillance capitalism unilaterally claims human experience as free raw material for translation \n",
    "into behavioral data.\n",
    "These data are then computed and packaged as prediction products for sale.\n",
    "\n",
    "Shoshana Zuboff, The Age of Surveillance Capitalism\n",
    "\"\"\"\n",
    "```\n"
   ]
  },
  {
   "cell_type": "code",
   "execution_count": null,
   "metadata": {},
   "outputs": [],
   "source": [
    "Zuboff_quote = \"\"\"\n",
    "Surveillance capitalism unilaterally claims human experience as free raw material for translation \n",
    "into behavioral data.\n",
    "These data are then computed and packaged as prediction products for sale.\n",
    "\n",
    "Shoshana Zuboff, The Age of Surveillance Capitalism\n",
    "\"\"\"\n",
    "print(Zuboff_quote)"
   ]
  },
  {
   "cell_type": "markdown",
   "metadata": {},
   "source": [
    "A second use of triple quotes is to create long comments. We have been using `#` to create comments in our code, but we can also triple quotes. You will often see a triple quote at the begining of a program. \n",
    "\n",
    "```\n",
    "\"\"\"\n",
    "The is from Shoshana Zuboff, known for her work on the digital economy and surveillance capitalism.\n",
    "\"\"\"\n",
    "```\n",
    "\n",
    "This piece of code won't do anything. It's for humans only, and Python won't interpret it."
   ]
  },
  {
   "cell_type": "markdown",
   "metadata": {},
   "source": [
    "## <font color='firebrick'> Practice</font>\n",
    "\n",
    "1. In which of the following cases is x a string?\n",
    "Edit this markdown cell and type 'string' or 'not string' next to each example.\n",
    "\n",
    " - x = '80 000' → string or not string?\n",
    " - x = 80000 → string or not string?\n",
    " - x = \"Hello World\" → string or not string?\n",
    " - x = 'ThreeRedLions' → string or not string?\n",
    " - x = 4.5 → string or not string?\n",
    " - x = 'firstname.lastname@u-picardie.fr' → string or not string?\n",
    "\n",
    "2. Fix this expression so it correctly handles the apostrophe in the string:"
   ]
  },
  {
   "cell_type": "code",
   "execution_count": null,
   "metadata": {},
   "outputs": [],
   "source": [
    "whose_platform = 'Mark Zuckerberg's'"
   ]
  },
  {
   "cell_type": "markdown",
   "metadata": {},
   "source": [
    "**Hint:** You’ll need to escape the apostrophe or use a different type of quote.\n",
    "\n",
    "To check your solutions, try running the following code examples:"
   ]
  },
  {
   "cell_type": "code",
   "execution_count": null,
   "metadata": {},
   "outputs": [],
   "source": [
    "# Example for question 1\n",
    "x1 = '80 000'\n",
    "x2 = 80000\n",
    "x3 = \"Hello World\"\n",
    "x4 = 'ThreeRedLions'\n",
    "x5 = 4.5\n",
    "x6 = 'firstname.lastname@u-picardie.fr'\n",
    "\n",
    "print(type(x1), type(x2), type(x3), type(x4), type(x5), type(x6))\n",
    "\n",
    "# Example for question 2: Fix the apostrophe\n",
    "whose_platform = \"Mark Zuckerberg's\"\n",
    "print(whose_platform)"
   ]
  },
  {
   "cell_type": "markdown",
   "metadata": {},
   "source": [
    "3. In the first and last name example, the result was `SundarPichai`. Use the cell below to correct the code to show a space between the first and last name: `Sundar Pichar`."
   ]
  },
  {
   "cell_type": "code",
   "execution_count": null,
   "metadata": {},
   "outputs": [],
   "source": []
  },
  {
   "cell_type": "markdown",
   "metadata": {},
   "source": [
    "4. The `\\n' character is like the 'Enter' key on a word processor. Copy the following in the cell below and insert `\\n' to obtain the same line break:\n",
    "```\n",
    "Larry Page & Sergey Brin\n",
    "\n",
    "Sundar Pichai\n",
    "```"
   ]
  },
  {
   "cell_type": "code",
   "execution_count": null,
   "metadata": {},
   "outputs": [],
   "source": [
    "print(\"Larry Page & Sergey Brin \\n Sundar Pichai\")"
   ]
  },
  {
   "cell_type": "markdown",
   "metadata": {},
   "source": [
    "# 5. Formatted printing<a id=\"print\"></a>  [(top)](#home)\n",
    "\n",
    "So far, we've printed simple output to the screen, but let's explore how to make these statements more flexible and presentable.\n",
    "\n",
    "Consider an example where we want to say that the revenue of a GAFA firm (e.g., Google) in 2010 and 2020 was \\\\$29.32 billion and \\\\$182.53 billion, respectively. Until now, we might write this like so:"
   ]
  },
  {
   "cell_type": "code",
   "execution_count": null,
   "metadata": {},
   "outputs": [],
   "source": [
    "print(\"Google’s revenue in 2010 and 2020 was 29.32 and 182.53 billion dollars, respectively\")"
   ]
  },
  {
   "cell_type": "markdown",
   "metadata": {},
   "source": [
    "However, if these numbers were dynamically generated by a program, we would need to automate this process. Thankfully, we can do this easily using Python's `format` method."
   ]
  },
  {
   "cell_type": "code",
   "execution_count": null,
   "metadata": {},
   "outputs": [],
   "source": [
    "print('Google’s revenue in 2010 and 2020 was {0:6.2f} and {1:6.2f} billion dollars, respectively'.format(29.32, 182.53))"
   ]
  },
  {
   "cell_type": "markdown",
   "metadata": {},
   "source": [
    "There’s a lot happening here.\n",
    "\n",
    "Our string contains two format codes (fields to be replaced) embedded in the text. The fields to be replaced are marked with curly braces {}. The values are substituted according to the rules we've set. If you want to print a curly brace itself, simply double it: {{ or }}.\n",
    "\n",
    "A positional parameter in the format method can be accessed by its index inside the curly braces. For example, {0} accesses the first parameter, {1} the second. After the index, a colon is followed by the format string.\n",
    "\n",
    "The format string follows this structure:\n",
    "\n",
    "```\n",
    "%[width][.precision]type \n",
    "```\n",
    "\n",
    "Let’s make sense of this using the example of Google’s 2010 revenue of \\\\$29.32 billion. We used `%6.2f`. Here's the breakdown:\n",
    "* %: Introduces the format specifier.\n",
    "* 6: Total width allocated for the number, including the decimal point.\n",
    "* 2: Precision, i.e., two decimal places.\n",
    "* f: Indicates it's a floating-point number.\n",
    "\n",
    "These values are passed in the .format() method. If you want to switch their order, you can do this too:"
   ]
  },
  {
   "cell_type": "code",
   "execution_count": null,
   "metadata": {},
   "outputs": [],
   "source": [
    "print('Google’s revenue in 2010 and 2020 was {1:6.2f} and {0:6.2f} billion dollars, respectively'.format(182.53, 29.32))"
   ]
  },
  {
   "cell_type": "markdown",
   "metadata": {},
   "source": [
    "Alternatively, to avoid managing the order of arguments, we can use keyword arguments:"
   ]
  },
  {
   "cell_type": "code",
   "execution_count": null,
   "metadata": {},
   "outputs": [],
   "source": [
    "print('Google’s revenue in 2010 and 2020 was {a:6.2f} and {b:6.2f} billion dollars, respectively'.format(a=29.32, b=182.53))"
   ]
  },
  {
   "cell_type": "markdown",
   "metadata": {},
   "source": [
    "Here, `a` and `b` are placeholders for our variables. We could choose any names, such as `rev_2010` and `rev_2020`:"
   ]
  },
  {
   "cell_type": "code",
   "execution_count": null,
   "metadata": {},
   "outputs": [],
   "source": [
    "print('Google’s revenue in 2010 and 2020 was {rev_2010:6.2f} and {rev_2020:6.2f} billion dollars, respectively'.format(rev_2010=29.32, rev_2020=182.53))"
   ]
  },
  {
   "cell_type": "markdown",
   "metadata": {},
   "source": [
    "A simpler way, introduced in Python 3.6, is to use f-string literals, which make formatting more concise. Here’s the equivalent using f-strings:"
   ]
  },
  {
   "cell_type": "code",
   "execution_count": null,
   "metadata": {},
   "outputs": [],
   "source": [
    "rev_2010 = 29.32\n",
    "rev_2020 = 182.53\n",
    "print(f\"Google’s revenue in 2010 and 2020 was {rev_2010:6.2f} and {rev_2020:6.2f} billion dollars, respectively\")"
   ]
  },
  {
   "cell_type": "markdown",
   "metadata": {},
   "source": [
    "This method is often easier to read and requires less code, making it more suitable for interactive or dynamic reports in digital economics."
   ]
  },
  {
   "cell_type": "markdown",
   "metadata": {},
   "source": [
    "## <font color='firebrick'>Practice</font>\n",
    "\n",
    "\n",
    "Here’s an adaptation of the questions based on your digital economics example:\n",
    "\n",
    "1. Change the decimal places to 2 for 2010 Google revenue.\n",
    "\n",
    "You can adjust the decimal precision by modifying the format specifier to have 2 decimal places. Here's an example:"
   ]
  },
  {
   "cell_type": "code",
   "execution_count": null,
   "metadata": {},
   "outputs": [],
   "source": [
    "rev_2010 = 29.32\n",
    "rev_2020 = 182.53\n",
    "print(f\"Google's revenue in 2010 and 2020 was {rev_2010:6.2f} and {rev_2020:6.2f} billion dollars, respectively\")"
   ]
  },
  {
   "cell_type": "markdown",
   "metadata": {},
   "source": [
    "2. There's an extra space between \"was\" and the 2010 revenue number. Fix it.\n",
    "\n",
    "Remove the space by adjusting the formatting or simply removing extra spaces in the string:"
   ]
  },
  {
   "cell_type": "code",
   "execution_count": null,
   "metadata": {},
   "outputs": [],
   "source": [
    "print(f\"Google's revenue in 2010 and 2020 was {rev_2010:.2f} and {rev_2020:.2f} billion dollars, respectively\")"
   ]
  },
  {
   "cell_type": "markdown",
   "metadata": {},
   "source": [
    "3. We can also tell Python to add commas as a thousands separator by adding a comma in the format string. Print the statement again using the comma separator in billions of dollars with two decimal places.\n",
    "\n",
    "Use the comma format specifier to add the thousands separator:"
   ]
  },
  {
   "cell_type": "code",
   "execution_count": null,
   "metadata": {},
   "outputs": [],
   "source": [
    "rev_2010 = 29320  # Revenue in millions\n",
    "rev_2020 = 182530  # Revenue in millions\n",
    "print(f\"Google's revenue in 2010 and 2020 was {rev_2010:,.2f} and {rev_2020:,.2f} million dollars, respectively\")"
   ]
  },
  {
   "cell_type": "markdown",
   "metadata": {},
   "source": [
    "This will display the numbers with commas as thousands separators and limit the decimal places to 2. You can scale the units based on your preference (e.g., billions or millions)."
   ]
  }
 ],
 "metadata": {
  "kernelspec": {
   "display_name": "Python 3 (ipykernel)",
   "language": "python",
   "name": "python3"
  },
  "language_info": {
   "codemirror_mode": {
    "name": "ipython",
    "version": 3
   },
   "file_extension": ".py",
   "mimetype": "text/x-python",
   "name": "python",
   "nbconvert_exporter": "python",
   "pygments_lexer": "ipython3",
   "version": "3.11.4"
  }
 },
 "nbformat": 4,
 "nbformat_minor": 4
}
