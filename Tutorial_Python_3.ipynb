{
 "cells": [
  {
   "cell_type": "markdown",
   "metadata": {},
   "source": [
    "# <font color = firebrick>Tutorial 3: Statements</font><a id='home'></a>\n",
    "\n",
    "We are now familiar with basic data structures in Python, how types work, and we know how to do basic calculations and manipulate strings. What we need now is *flow control*. \n",
    "\n",
    "A python program is a list of instructions or statements. The python interpreter reads these instructions from top to bottom and executes them. We may want to skip certain instructions or repeat others. Flow control instructions manage this process.\n",
    "\n",
    "In this notebook, we will address the following points:\n",
    "1. [Booleans](#bool)\n",
    "2. [If/else](#cond)\n",
    "3. [Loops](#forloop)"
   ]
  },
  {
   "cell_type": "markdown",
   "metadata": {},
   "source": [
    "# 1. Booleans<a id=\"bool\"></a> ([top](#home))\n",
    "A Boolean variable can take two values: `True` or `False`. Python’s bool type lets us check conditions for taking decisions according to whether a statement is true or false.\n",
    "\n",
    "For example, an e-commerce platform might offer discounts based on the user’s spending or determine if it’s the right time to increase prices. Execute the code below and find the type of variable `discount_offer`:"
   ]
  },
  {
   "cell_type": "code",
   "execution_count": null,
   "metadata": {},
   "outputs": [],
   "source": [
    "user_spending = 150\n",
    "discount_limit = 100\n",
    "discount_offer = user_spending > discount_limit  # Check if spending exceeds the threshold\n",
    "print(discount_offer)"
   ]
  },
  {
   "cell_type": "markdown",
   "metadata": {},
   "source": [
    "**Common comparison operators are:**\n",
    "* `<` less than\n",
    "* `>` greater than\n",
    "* `<=` less than or equal to\n",
    "* `>=` greater than or equal to\n",
    "* `==` equal\n",
    "* `!=` not equal\n",
    "\n",
    "Important: Use `==` to check for equality, and `=` for assignment.\n",
    "\n",
    "Execute the code below to check the current year:"
   ]
  },
  {
   "cell_type": "code",
   "execution_count": null,
   "metadata": {},
   "outputs": [],
   "source": [
    "# a bit of code to see if the variable year is equal to the current year\n",
    "year = 2023\n",
    "is_current_year = (2023 == year)  # the parenthesis are not needed, but I like them for clarity\n",
    "print(is_current_year)"
   ]
  },
  {
   "cell_type": "markdown",
   "metadata": {},
   "source": [
    "Go back and change the third line to `is_current_year = (2024 = year) `. What happened? "
   ]
  },
  {
   "cell_type": "markdown",
   "metadata": {},
   "source": [
    "### Comparisons using `and` and `or`\n",
    "Economic decisions are often more complex than simple true-or-false decisions, such as dynamic pricing strategies or user recommendations. The use of `and` and `or` makes it possible to handle multiple conditions efficiently.\n",
    "\n",
    "For example, we can check whether a user can benefit from both a discount and free delivery, or whether he meets only one of the two conditions:"
   ]
  },
  {
   "cell_type": "code",
   "execution_count": null,
   "metadata": {},
   "outputs": [],
   "source": [
    "user_spending = 150\n",
    "is_eligible = (user_spending > 100) and (user_spending < 200)\n",
    "print('Eligible for discount and shipping?', is_eligible)"
   ]
  },
  {
   "cell_type": "markdown",
   "metadata": {},
   "source": [
    "For `or`, only one condition needs to be true:"
   ]
  },
  {
   "cell_type": "code",
   "execution_count": null,
   "metadata": {},
   "outputs": [],
   "source": [
    "is_eligible = (user_spending > 100) or (user_spending == 50)\n",
    "print('Eligible for discount or special?', is_eligible)"
   ]
  },
  {
   "cell_type": "markdown",
   "metadata": {},
   "source": [
    "### Comparisons using strings\n",
    "\n",
    "In digital marketplaces, string comparisons can be used for categorizing or filtering users, products, or behaviors. For instance, checking user preferences or subscription could tailor a recommendation:"
   ]
  },
  {
   "cell_type": "code",
   "execution_count": null,
   "metadata": {},
   "outputs": [],
   "source": [
    "user_segment = 'Premium'\n",
    "\n",
    "is_premium = ('premium' == user_segment.lower())  # Compare case-insensitively\n",
    "print('Is premium:', is_premium)"
   ]
  },
  {
   "cell_type": "markdown",
   "metadata": {},
   "source": [
    "The case is interesting. Python has many features for manipulating strings, which we'll see step by step later on. Here, we use the method `lower()` of the string class to lowercase the string.\n",
    "\n",
    "Again, we use the 'dot' notation without actually explaining it, but more on that later."
   ]
  },
  {
   "cell_type": "code",
   "execution_count": null,
   "metadata": {},
   "outputs": [],
   "source": [
    "premium_lowcase = user_segment.lower()  # we are applying the lower() method to the variable premium\n",
    "print('premium, after being lowered:', premium_lowcase)\n",
    "\n",
    "is_premium = 'premium' == premium_lowcase  \n",
    "print(premium_lowcase, is_premium)\n",
    "\n",
    "is_premium = 'premium' == user_segment.lower()  # NB, we're pointing out that you don't have to store the lowered string separately\n",
    "print(user_segment.lower(), is_premium)"
   ]
  },
  {
   "cell_type": "markdown",
   "metadata": {},
   "source": [
    "# 2. If/else <a id=\"cond\"></a>([top](#home))\n",
    "In Python, conditional statements evaluate whether a condition is True or False. If True, one set of code runs; if False, another runs.\n",
    "\n",
    "To get an idea, you can think of an algorithm that takes specific conditions into account, for example by adjusting prices according to user behavior.\n",
    "\n",
    "**Important:** Python requires exact indentation after the condition (four spaces or one tab stop) to define which code belongs to each branch of the if statement."
   ]
  },
  {
   "cell_type": "code",
   "execution_count": null,
   "metadata": {},
   "outputs": [],
   "source": [
    "price = 100\n",
    "\n",
    "if price > 50: \n",
    "    print('Price is above the discount threshold.')\n",
    "    new_price = price * 0.9  # Applying a 10% discount\n",
    "    print('Discounted price:', new_price, '\\n')\n",
    "else:\n",
    "    print('Price is too low for a discount.\\n')\n",
    "\n",
    "print('This code runs regardless of the condition.')"
   ]
  },
  {
   "cell_type": "markdown",
   "metadata": {},
   "source": [
    "**Experiment:**\n",
    "- Change price to 30 and see what happens.\n",
    "- Try modifying the indentation incorrectly and run the code—what error do you get?\n",
    "\n",
    "\n",
    "### Another example: Product sizes"
   ]
  },
  {
   "cell_type": "code",
   "execution_count": null,
   "metadata": {},
   "outputs": [],
   "source": [
    "size = 'medium'\n",
    "if (size == 'small') or (size == 'medium') or (size == 'large'):\n",
    "    print('A standard product size was selected.\\n')\n",
    "    \n",
    "# else is optional\n",
    "print('This code runs no matter what.')"
   ]
  },
  {
   "cell_type": "markdown",
   "metadata": {},
   "source": [
    "Now, try changing size to 'extra-large' and run the cell. This logic can be applied to segment products or services based on user input in digital platforms."
   ]
  },
  {
   "cell_type": "markdown",
   "metadata": {},
   "source": [
    "## <font color='firebrick'> Practice</font>\n",
    "\n",
    "1. Edit this markdown cell and write True, False, or Error next to each statement:\n",
    "100 > 200 \n",
    "'digital' == 'Digital'\n",
    "(100 > 200) or (500 < 1000)\n",
    "'E-commerce' == 'E-commerce'\n",
    "\n",
    "\n",
    "```python\n",
    "price = 50\n",
    "0 < price < 100\n",
    "\n",
    "```\n",
    "* \n",
    "```python\n",
    "x = 0.10\n",
    "y = 1/10\n",
    "x == y\n",
    "\n",
    "```\n",
    "\n",
    "\n",
    "2. Before running the code below, guess if it will return True or False:\n",
    "3. Run the code cell. \n"
   ]
  },
  {
   "cell_type": "code",
   "execution_count": null,
   "metadata": {},
   "outputs": [],
   "source": [
    "price = 1/3\n",
    "approx_price = 0.333333333\n",
    "print(price == approx_price)"
   ]
  },
  {
   "cell_type": "markdown",
   "metadata": {},
   "source": [
    "3. Try adding more 3s to approx_price. Can you make price == approx_price true? (Hint: This relates to the limits of floating-point numbers. See more: [Python Docs on Floating Point Arithmetic](https://docs.python.org/3/tutorial/floatingpoint.html) "
   ]
  },
  {
   "cell_type": "markdown",
   "metadata": {},
   "source": [
    "4. Test the built-in len() function:"
   ]
  },
  {
   "cell_type": "code",
   "execution_count": null,
   "metadata": {},
   "outputs": [],
   "source": [
    "print(len('Hello digital economy'))"
   ]
  },
  {
   "cell_type": "markdown",
   "metadata": {},
   "source": [
    "5. Write code to compare two digital platform names and:\n",
    "- Print the longer name in lower case.\n",
    "- Print the shorter name in upper case."
   ]
  },
  {
   "cell_type": "code",
   "execution_count": null,
   "metadata": {},
   "outputs": [],
   "source": [
    "platform1 = 'Marketplace'\n",
    "platform2 = 'App'"
   ]
  },
  {
   "cell_type": "markdown",
   "metadata": {},
   "source": [
    "# 3. Loops <a id=\"forloop\"></a> ([top](#home))\n",
    "Conditional statements let you execute parts of your program selectively. Loops give you the possibility to execute parts of your code more than once, eventually adding some changes each time. There are several types of loop. The `for` loop executes a block of \"for” code a fixed number of times.\n",
    "\n",
    "Analyzing user behavior and patterns often involves running conditional checks and loops. Loops let us execute parts of code repeatedly—ideal for tasks such as aggregating consumer data or monitoring price changes over time.\n",
    "\n",
    "### Example: Iterating Through a Data Range\n",
    "A `for` loop is often used to process data in fixed steps. For instance, here we loop three times:"
   ]
  },
  {
   "cell_type": "code",
   "execution_count": null,
   "metadata": {
    "scrolled": true
   },
   "outputs": [],
   "source": [
    "# Loop three times and print the value of 'i'\n",
    "for i in range(3):\n",
    "    print('Iteration:', i)"
   ]
  },
  {
   "cell_type": "markdown",
   "metadata": {},
   "source": [
    "This type of loop is great for checking a set of prices or user interactions over time. You might imagine using a loop like this to track key metrics (e.g., app usage or sales) for the first three days of a launch.\n",
    "\n",
    "### Exploring ranges\n",
    "The `range()` function generates a sequence of numbers. For example:\n",
    "- `range(3)` returns the numbers 0, 1, 2\n",
    "- `range(2, 7)` gives 2, 3, 4, 5, 6 (for iterating over specific data points)\n",
    "- `range(0, 10, 2)` returns 0, 2, 4, 6, 8 (where 2 is the step size, useful for checking values at regular intervals)"
   ]
  },
  {
   "cell_type": "code",
   "execution_count": null,
   "metadata": {},
   "outputs": [],
   "source": [
    "# A range is python type such as a float or a str\n",
    "my_range = range(5)\n",
    "print(type(my_range))\n",
    "\n",
    "# What happens if we print the range?\n",
    "print(my_range)\n",
    "\n",
    "# Trying out a range with a step size of 2\n",
    "print(list(range(0, 10, 2)))"
   ]
  },
  {
   "cell_type": "markdown",
   "metadata": {},
   "source": [
    "### Looping over lists\n",
    "We can iterate over lists. In the example below, a list of economic variables (e.g., user growth) is looped through:"
   ]
  },
  {
   "cell_type": "code",
   "execution_count": null,
   "metadata": {},
   "outputs": [],
   "source": [
    "metrics = ['Users', 'Revenue', 'Transactions', 'Ads']\n",
    "\n",
    "# Looping over metrics using Python\n",
    "for metric in metrics:\n",
    "    print('Tracking:', metric)"
   ]
  },
  {
   "cell_type": "markdown",
   "metadata": {},
   "source": [
    "You can apply this concept to loop through datasets, such as monitoring user engagement across multiple platforms.\n",
    "\n",
    "### Iterating other data types\n",
    "\n",
    "In Python, you can also loop through strings or other types of data. For instance, iterating over a string (like a user’s name or a product category):"
   ]
  },
  {
   "cell_type": "code",
   "execution_count": null,
   "metadata": {},
   "outputs": [],
   "source": [
    "category = 'eCommerce'\n",
    "\n",
    "for letter in category:\n",
    "    print(letter)"
   ]
  },
  {
   "cell_type": "markdown",
   "metadata": {},
   "source": [
    "### Iterables\n",
    "Ranges, lists and strings are all “iterable objects”, i.e. they know how to return the “next” element they contain. Iterators are used in places besides loops, too. We will see other uses as we go on. Powerful stuff."
   ]
  },
  {
   "cell_type": "markdown",
   "metadata": {},
   "source": [
    "## <font color='firebrick'> Practice</font>\n",
    "\n",
    "Try these exercises to enhance your skills.\n",
    "\n",
    "1. You have user engagement data from a digital platform: '1, 3, 8, 3, 9'. This data is combined into `raw_data`. What type is raw_data? Convert raw_data into a list of numbers."
   ]
  },
  {
   "cell_type": "code",
   "execution_count": null,
   "metadata": {},
   "outputs": [],
   "source": []
  },
  {
   "cell_type": "markdown",
   "metadata": {},
   "source": [
    "Is it ready for analysis? Why or why not?\n",
    "\n",
    "2. Write a loop to convert each item in your list into an integer. Why might automation be helpful here?"
   ]
  },
  {
   "cell_type": "code",
   "execution_count": null,
   "metadata": {},
   "outputs": [],
   "source": []
  },
  {
   "cell_type": "markdown",
   "metadata": {},
   "source": [
    "5. Loop through actions = ['like', 'like', 'like', 'pause', 'like', 'like']. Print \"User Active\" for 'like' and \"User Inactive\" for 'pause'. How might this behavior data be useful for improving engagement on a digital platform?"
   ]
  },
  {
   "cell_type": "code",
   "execution_count": null,
   "metadata": {},
   "outputs": [],
   "source": []
  }
 ],
 "metadata": {
  "kernelspec": {
   "display_name": "Python 3 (ipykernel)",
   "language": "python",
   "name": "python3"
  },
  "language_info": {
   "codemirror_mode": {
    "name": "ipython",
    "version": 3
   },
   "file_extension": ".py",
   "mimetype": "text/x-python",
   "name": "python",
   "nbconvert_exporter": "python",
   "pygments_lexer": "ipython3",
   "version": "3.11.4"
  }
 },
 "nbformat": 4,
 "nbformat_minor": 2
}
