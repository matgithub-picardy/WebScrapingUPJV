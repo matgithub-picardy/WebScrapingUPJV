{
 "cells": [
  {
   "cell_type": "markdown",
   "metadata": {},
   "source": [
    "In this notebook we look at several basic components needed for a Python program."
   ]
  },
  {
   "cell_type": "markdown",
   "metadata": {},
   "source": [
    "# Python as calculator\n",
    "When using Python in IPython mode, for example in a notebook like this, the statements we type are interpreted and executed immediately.\n",
    "\n",
    "... in other words, we can use it as a calculator!\n",
    "\n",
    "Given that the distance between Edinburgh and London is 403 miles, can we convert that to km?"
   ]
  },
  {
   "cell_type": "code",
   "execution_count": 1,
   "metadata": {},
   "outputs": [
    {
     "data": {
      "text/plain": [
       "648.56402"
      ]
     },
     "execution_count": 1,
     "metadata": {},
     "output_type": "execute_result"
    }
   ],
   "source": [
    "403 * 1.60934"
   ]
  },
  {
   "cell_type": "markdown",
   "metadata": {},
   "source": [
    "Typing in numbers gets tedious quickly, how can we get around that?\n",
    "\n",
    "# Variables\n",
    "are human-readable containers that can store numbers, characters, strings or any other value.\n",
    "\n",
    "Let's try to calculate the distance between Edinburgh and London in km again:"
   ]
  },
  {
   "cell_type": "code",
   "execution_count": 2,
   "metadata": {},
   "outputs": [
    {
     "data": {
      "text/plain": [
       "648.56402"
      ]
     },
     "execution_count": 2,
     "metadata": {},
     "output_type": "execute_result"
    }
   ],
   "source": [
    "distanceToLondonMiles = 403\n",
    "mileToKm = 1.60934\n",
    "distanceToLondonKm = distanceToLondonMiles * mileToKm\n",
    "distanceToLondonKm"
   ]
  },
  {
   "cell_type": "markdown",
   "metadata": {},
   "source": [
    "That's neat! Now we can reuse the variable `mileToKm` for other conversions without having to type it in again!\n",
    "\n",
    "Can we do the same conversion for a marathon, while keeping some of the variables above?"
   ]
  },
  {
   "cell_type": "code",
   "execution_count": 3,
   "metadata": {},
   "outputs": [
    {
     "data": {
      "text/plain": [
       "42.19528546"
      ]
     },
     "execution_count": 3,
     "metadata": {},
     "output_type": "execute_result"
    }
   ],
   "source": [
    "marathonDistanceMiles = 26.219\n",
    "marathonDistanceKm = marathonDistanceMiles * mileToKm\n",
    "marathonDistanceKm"
   ]
  },
  {
   "cell_type": "markdown",
   "metadata": {},
   "source": [
    "Note that you can't add whitespaces to variable names, which means that we need combine multiple words into one. Possible ways to do this are:\n",
    "\n",
    "```python\n",
    "allbundledtogether = \"not readable\"\n",
    "camelCase = \"is readable\"\n",
    "under_score = \"is readable\"\n",
    "```"
   ]
  },
  {
   "cell_type": "markdown",
   "metadata": {},
   "source": [
    "Note that we put the variable name as the last line to see its contents. This is a feature of Jupyter Notebooks and is not available on every implementation of Python."
   ]
  },
  {
   "cell_type": "markdown",
   "metadata": {},
   "source": [
    "## Types\n",
    "\n",
    "The values in these containers are stored as particular types. The important ones to remember are:\n",
    "\n",
    "| Type | Declaration | Example | Usage |\n",
    "|----|----|----|----|\n",
    "| Integer  | int | `x = 124` | Numbers without decimal point |\n",
    "| Float  | float | `x = 124.56` | Numbers with decimal point |\n",
    "| String  | str | `x = \"Hello world\"` | Used for text |\n",
    "| Boolean  | bool | `x = True` or `x = False` | Used for conditional statements |\n",
    "| NoneType  | None | `x = None` | Whenever you want an empty variable |\n",
    "\n",
    "How does all of that actually affect us? Well, let's try to add an Integer and a String:\n"
   ]
  },
  {
   "cell_type": "code",
   "execution_count": 5,
   "metadata": {
    "scrolled": true
   },
   "outputs": [
    {
     "data": {
      "text/plain": [
       "30"
      ]
     },
     "execution_count": 5,
     "metadata": {},
     "output_type": "execute_result"
    }
   ],
   "source": [
    "x = 10    # This is an integer\n",
    "y = \"20\"  # This is a string\n",
    "x + int(y)"
   ]
  },
  {
   "cell_type": "markdown",
   "metadata": {},
   "source": [
    "Whoops! Seems like we managed to break Python.\n",
    "\n",
    "Luckily, Python offers an easy way to convert one variable to another. Let's try our example again."
   ]
  },
  {
   "cell_type": "code",
   "execution_count": 6,
   "metadata": {},
   "outputs": [
    {
     "data": {
      "text/plain": [
       "30"
      ]
     },
     "execution_count": 6,
     "metadata": {},
     "output_type": "execute_result"
    }
   ],
   "source": [
    "x = 10    # This is an integer\n",
    "y = \"20\"  # This is a string\n",
    "x + int(y)"
   ]
  },
  {
   "cell_type": "markdown",
   "metadata": {},
   "source": [
    "We just converted the String variable y to an Integer! Actually, we can convert any type of variable to another type in a similar manner! For example, we can convert `y` back to a String with `str(y)`.\n",
    "\n",
    "If you are ever unsure of what type a variable you can use the `type()` function to find out."
   ]
  },
  {
   "cell_type": "code",
   "execution_count": 7,
   "metadata": {},
   "outputs": [
    {
     "data": {
      "text/plain": [
       "float"
      ]
     },
     "execution_count": 7,
     "metadata": {},
     "output_type": "execute_result"
    }
   ],
   "source": [
    "type(mileToKm)"
   ]
  },
  {
   "cell_type": "markdown",
   "metadata": {},
   "source": [
    "What if we make x and y Strings and add them up?"
   ]
  },
  {
   "cell_type": "code",
   "execution_count": 8,
   "metadata": {},
   "outputs": [
    {
     "data": {
      "text/plain": [
       "'1020'"
      ]
     },
     "execution_count": 8,
     "metadata": {},
     "output_type": "execute_result"
    }
   ],
   "source": [
    "x = \"10\"\n",
    "y = \"20\"\n",
    "x + y"
   ]
  },
  {
   "cell_type": "markdown",
   "metadata": {},
   "source": [
    "That doesn't seem arithmetically correct but is correct in the world of Python. We effectively concatinated 2 strings!\n",
    "\n",
    "Notice how the `+` operator behaves differently depending on the type of the variables. This is an imporant principle which spans across the whole Python language!"
   ]
  },
  {
   "cell_type": "markdown",
   "metadata": {},
   "source": [
    "### Exercise\n",
    "1. Create a variable `x` and assign the value `4` to it.\n",
    "2. Create another variable `y` and assign to it the value of `x`\n",
    "3. Change the value of `x` to be `\"four\"`\n",
    "\n",
    "Confirm your results by typing `x,y` at the **end** of the code cell. This will print out the values of the 2 variables."
   ]
  },
  {
   "cell_type": "code",
   "execution_count": null,
   "metadata": {},
   "outputs": [],
   "source": []
  },
  {
   "cell_type": "markdown",
   "metadata": {},
   "source": [
    "# Arithmetical operators\n",
    "\n",
    "Now let's see how we can make full use of our new calculator. Python supports a range of different arithmetical operators:\n",
    "\n",
    "| Symbol | Task Performed | Example | Result\n",
    "|----|---|---|---|\n",
    "| +  | Addition | 4 + 3 | 7 |\n",
    "| -  | Subtraction | 4 - 3 | 1 |\n",
    "| /  | Division | 7 / 2 | 3.5 |\n",
    "| %  | Mod | 7 % 2 | 1 |\n",
    "| *  | Multiplication | 4 * 3 | 12 |\n",
    "| //  | Floor division | 7 // 2 | 3 |\n",
    "| **  | Power of | 7 ** 2 | 49 |\n",
    "\n",
    "Make note of how the different division operators work."
   ]
  },
  {
   "cell_type": "code",
   "execution_count": 9,
   "metadata": {},
   "outputs": [
    {
     "data": {
      "text/plain": [
       "64.0"
      ]
     },
     "execution_count": 9,
     "metadata": {},
     "output_type": "execute_result"
    }
   ],
   "source": [
    "16 ** 2 / 4"
   ]
  },
  {
   "cell_type": "markdown",
   "metadata": {},
   "source": [
    "What happens if we have a lot of operators on the same line? It becomes difficult to read and increases your chances of making an error. Let's try to calculate `7 ** 2` again but this time represent 7 as 4 + 3."
   ]
  },
  {
   "cell_type": "code",
   "execution_count": null,
   "metadata": {},
   "outputs": [],
   "source": [
    "4 + 3 ** 2"
   ]
  },
  {
   "cell_type": "markdown",
   "metadata": {},
   "source": [
    "That doesn't seem correct. Just like in actual Mathematics, we can put parenthesis when calculating. \n",
    "\n",
    "**Operator precendence** in Python works the same way as it does in Mathematics!"
   ]
  },
  {
   "cell_type": "code",
   "execution_count": null,
   "metadata": {},
   "outputs": [],
   "source": [
    "(4 + 3) ** 2"
   ]
  },
  {
   "cell_type": "markdown",
   "metadata": {},
   "source": [
    "### Exercise\n",
    "Perform the followig calculations:\n",
    "1. Multiply 549 by 72108\n",
    "2. Add 48 to it\n",
    "3. Divide it by 31\n",
    "\n",
    "and find the whole-number part of the result.\n",
    "\n",
    "_(Hint: you may at some point find floor division useful)_"
   ]
  },
  {
   "cell_type": "code",
   "execution_count": null,
   "metadata": {},
   "outputs": [],
   "source": []
  },
  {
   "cell_type": "markdown",
   "metadata": {},
   "source": [
    "# Boolean logic\n",
    "It would be useful if we can compare values while using them. To do that we can use **comparison operators**:\n",
    "\n",
    "| Operator | Output | \n",
    "|----|---|\n",
    "| x == y | True if x and y have the same value |\n",
    "| x != y | True if x and y don't have the same value |\n",
    "| x < y | True if x is less than y |\n",
    "| x > y | True if x is more than y |\n",
    "| x <= y | True if x is less than or equal to y |\n",
    "| x >= y | True if x is more than or equal to y |\n",
    "\n",
    "Make note that these operators return Boolean values (ie. `True` or `False`). Naturally, if the operations don't return `True`, they will return `False`. Let's try some of them out:"
   ]
  },
  {
   "cell_type": "code",
   "execution_count": null,
   "metadata": {},
   "outputs": [],
   "source": [
    "x = 5       # assign 5 to the variable x\n",
    "x == 5      # check if value of x is 5"
   ]
  },
  {
   "cell_type": "markdown",
   "metadata": {},
   "source": [
    "*Note that `==` is not the same as `=`*"
   ]
  },
  {
   "cell_type": "code",
   "execution_count": null,
   "metadata": {},
   "outputs": [],
   "source": [
    "x > 7"
   ]
  },
  {
   "cell_type": "markdown",
   "metadata": {},
   "source": [
    "That is nice! How can we extend this to link multiple combinations like that? Luckily, Python offers the usual set of **logical operations**:\n",
    "\n",
    "| Operation | Result | \n",
    "|----|---|\n",
    "| x or y | True if at least on is True |\n",
    "| x and y  | True only if both are True |\n",
    "| not x | True only if x is False |\n",
    "\n",
    "Here are some examples of them:\n",
    "```\n",
    "True  and True  is True\n",
    "True  and False is False\n",
    "False and False is False\n",
    "\n",
    "False or False is False\n",
    "True  or True  is True\n",
    "True  or False is True\n",
    "\n",
    "not True  is False\n",
    "not False is True\n",
    "```\n",
    "\n",
    "With this knowledge, we can now chain different boolean operations. The simplest of which is to check if a number is within a range."
   ]
  },
  {
   "cell_type": "code",
   "execution_count": null,
   "metadata": {},
   "outputs": [],
   "source": [
    "x = 14\n",
    "# check if x is within the range 10..20\n",
    "\n",
    "( x > 10 ) and ( x < 20)"
   ]
  },
  {
   "cell_type": "markdown",
   "metadata": {},
   "source": [
    "As seen, parenthesis are helpful here as well and make the code more readable! That being said, what happens if we have a really complicated boolean logic?"
   ]
  },
  {
   "cell_type": "code",
   "execution_count": null,
   "metadata": {},
   "outputs": [],
   "source": [
    "# check if x is a multiple of 2\n",
    "# check if x is a multiple of 3\n",
    "# check whether x is not divisible by 6 = 2*3.\n",
    "x = 14\n",
    "\n",
    "not (( x % 2 == 0 ) and ( x % 3 == 0))"
   ]
  },
  {
   "cell_type": "markdown",
   "metadata": {},
   "source": [
    "and it became a mess...\n",
    "\n",
    "To make it more understandable we can introduce intermediate variables like previously:"
   ]
  },
  {
   "cell_type": "code",
   "execution_count": null,
   "metadata": {},
   "outputs": [],
   "source": [
    "x = 14\n",
    "\n",
    "xDivBy2 = ( x % 2 ) == 0 # check if x is a multiple of 2\n",
    "xDivBy3 = ( x % 3 ) == 0 # check if x is a multiple of 3\n",
    "\n",
    "not (xDivBy2 and xDivBy3)"
   ]
  },
  {
   "cell_type": "markdown",
   "metadata": {},
   "source": [
    "### Exercise\n",
    "The code below generates a random number between -50 and 50. Complete the code block using boolean logic to check if `x` lies in the range [0, 10]."
   ]
  },
  {
   "cell_type": "code",
   "execution_count": null,
   "metadata": {},
   "outputs": [],
   "source": [
    "import random\n",
    "x = 100*random.random() - 50\n",
    "\n",
    "# Finish this block"
   ]
  },
  {
   "cell_type": "markdown",
   "metadata": {},
   "source": [
    "# Strings\n",
    "Strings are very powerful in Python and offer a lot of functionality. For one, they can be added and multiplied. That sounds a bit absurd, how can you add and multiply words? Well, they can and actually they can do much more."
   ]
  },
  {
   "cell_type": "code",
   "execution_count": null,
   "metadata": {},
   "outputs": [],
   "source": [
    "x = \"Python\"\n",
    "y = \"rocks\"\n",
    "x + \" \" + y"
   ]
  },
  {
   "cell_type": "code",
   "execution_count": null,
   "metadata": {},
   "outputs": [],
   "source": [
    "x = \"This can be\"\n",
    "y = \"repeated \"\n",
    "x + \" \" + y * 3"
   ]
  },
  {
   "cell_type": "markdown",
   "metadata": {},
   "source": [
    "Strings also have som of built-in functions which alter them directly. Here are some of them:"
   ]
  },
  {
   "cell_type": "code",
   "execution_count": null,
   "metadata": {},
   "outputs": [],
   "source": [
    "x = \"Edinburgh\"\n",
    "x = x.upper()\n",
    "\n",
    "y = \"University Of \"\n",
    "y = y.lower()\n",
    "\n",
    "y + x"
   ]
  },
  {
   "cell_type": "markdown",
   "metadata": {},
   "source": [
    "To find out its full capabilities you can use *Tab Completion*. Simply type out the string variable followed by a `.` and then press the **Tab character** on your keyboard. A dropdown menu should appear showing you all of the methods of strings.\n",
    "\n",
    "This Tab completion functionality extends to everything else in Python (eg. variables, functions, methods), however, it our case it is a feature provided by Jupyter Notebooks."
   ]
  },
  {
   "cell_type": "code",
   "execution_count": null,
   "metadata": {},
   "outputs": [],
   "source": [
    "x."
   ]
  },
  {
   "cell_type": "markdown",
   "metadata": {},
   "source": [
    "but what if we want to include numbers in strings? Surely we can keep a number stored as a String (ie. `x = \"20\"`) but we can't use that number for actual calculations. \n",
    "\n",
    "The right way to do this is to keep numbers represented by numbers (ie. integers, floats, etc.) and only convert them to Strings whenever needed. To show how to do that let us compute the answer to the universe."
   ]
  },
  {
   "cell_type": "code",
   "execution_count": null,
   "metadata": {},
   "outputs": [],
   "source": [
    "x = 6\n",
    "x = ( x * 441 ) // 63\n",
    "\"The answer to Life, the Universe and Everything is \" + str(x)"
   ]
  },
  {
   "cell_type": "markdown",
   "metadata": {},
   "source": [
    "### Exercise\n",
    "The code below assigns the current day, month and year to variables (you don't need to worry about how this works for now). Complete the block with a string stating `\"Today is the Dth day of the Mth month of the Yth year\"`, where `D`, `M`, `Y` are given by the variables below."
   ]
  },
  {
   "cell_type": "code",
   "execution_count": null,
   "metadata": {},
   "outputs": [],
   "source": [
    "import datetime\n",
    "today = datetime.date.today()\n",
    "day = today.day\n",
    "month = today.month\n",
    "year = today.year\n",
    "\n",
    "#Create your string"
   ]
  },
  {
   "cell_type": "markdown",
   "metadata": {},
   "source": [
    "# Printing\n",
    "When writing your own script you won't have the luxury of printing the value of a variable simply by typing its name(like we have been doing until now), you will have to use `print()` to check any values. Luckily it's quite versatile and powerful but also has a few quirks."
   ]
  },
  {
   "cell_type": "code",
   "execution_count": null,
   "metadata": {},
   "outputs": [],
   "source": [
    "print(\"Python is powerful and versatile!\")"
   ]
  },
  {
   "cell_type": "code",
   "execution_count": null,
   "metadata": {},
   "outputs": [],
   "source": [
    "str1 = \"The string class has\"\n",
    "str2 = 76\n",
    "str3 = \"methods!\"\n",
    "print(str1 + str2 + str3)"
   ]
  },
  {
   "cell_type": "markdown",
   "metadata": {},
   "source": [
    "This doesn't really work and it is not an issue of `print`. It is actually because we are trying to add a String to an Integer. As seen previously, we can convert this to a string using `str()`:"
   ]
  },
  {
   "cell_type": "code",
   "execution_count": null,
   "metadata": {},
   "outputs": [],
   "source": [
    "str1 = \"The string class has \"\n",
    "str2 = 76\n",
    "str3 = \" methods!\"\n",
    "print(str1 + str(str2) + str3)  # You will have to convert str2 to a string before you can print it"
   ]
  },
  {
   "cell_type": "markdown",
   "metadata": {},
   "source": [
    "Surely Python would have a more elegant solution, right? Correct!\n",
    "\n",
    "You can use `print` in the format `print(argument1, argument2, argument3, .. ,argumentN)` which allows us to print nearly every type of variable, which is quite useful and doesn't require us to do type conversions all the time. "
   ]
  },
  {
   "cell_type": "code",
   "execution_count": null,
   "metadata": {},
   "outputs": [],
   "source": [
    "str1 = \"which means it has even more than\"\n",
    "str2 = 76\n",
    "str3 = \"quirks\"\n",
    "print(str1, str2, str3)"
   ]
  },
  {
   "cell_type": "markdown",
   "metadata": {},
   "source": [
    "### Exercise\n",
    "The code below calculates the circumference of the Earth at the equator. Complete the block to print this circumference with a statement of how it was calculated (e.g \"Earth's diameter at equator: 12756 km. Equator's circumference: pi * 12756 = __ km\"). \n",
    "\n",
    "Print this statement twice, using a different method for printing each time."
   ]
  },
  {
   "cell_type": "code",
   "execution_count": null,
   "metadata": {},
   "outputs": [],
   "source": [
    "pi = 3.14159 # Pi\n",
    "d = 12756 # Diameter of eath at equator (in km)\n",
    "c = pi*d # Circumference of equator\n",
    "\n",
    "#Print using +, and casting\n",
    "\n",
    "#Print using several arguments"
   ]
  },
  {
   "cell_type": "markdown",
   "metadata": {},
   "source": [
    "## User input\n",
    "\n",
    "Most programs take some sort of input from the user - for example, a simple calculator that performs addition would need 2 numbers. Python allows easy user input using the function `input()`.\n",
    "\n",
    "When executed, the program pauses and waits for the user to type something in and press enter. `input()` always returns a String version of whatever the user typed in."
   ]
  },
  {
   "cell_type": "code",
   "execution_count": null,
   "metadata": {},
   "outputs": [],
   "source": [
    "inp = input()\n",
    "print(inp)\n",
    "print(type(inp))"
   ]
  },
  {
   "cell_type": "markdown",
   "metadata": {},
   "source": [
    "## Commenting\n",
    "\n",
    "When writing code you can also write a human-readable explanation of your code in the form of a comment. This can be done by typing in `#` and then writing extra information after it. For example:\n",
    "\n",
    "- `print(totalCost)` is ambiguous and we can't exactly be sure what `totalCost` is.\n",
    "- `print(totalCost)  # Prints the total cost for renovating the Main Library` is more informative\n",
    "\n",
    "Try running the following code. It should fail. Comment out the line of code so that the cell runs without an error."
   ]
  },
  {
   "cell_type": "code",
   "execution_count": null,
   "metadata": {},
   "outputs": [],
   "source": [
    "x = 6\n",
    "y = 8\n",
    "result = x-y\n",
    "z = \"z\"\n",
    "result2 = z - y\n",
    "result3 = z*3"
   ]
  },
  {
   "cell_type": "markdown",
   "metadata": {},
   "source": [
    "## Debugging\n",
    "\n",
    "Debugging refers to removing bugs (pieces of code that don't function as intended).\n",
    "\n",
    "When something does not work, the simplest (and often most powerful) way to debug is a combination of `print()`-ing and commenting. Printing variable contents at every step of the program allows you to establish whether what you think is happening actually is happening, whereas commenting out lines sometimes helps establish the source of the error.\n",
    "\n",
    "For example, if you do a sequence of calculations and the answer somehow comes out as NaN (not-a-number):"
   ]
  },
  {
   "cell_type": "code",
   "execution_count": null,
   "metadata": {},
   "outputs": [],
   "source": [
    "a = -10.5\n",
    "a = a**2\n",
    "infinity = float('Inf') # this creates a variable of type float that represents an infinity\n",
    "zero = (0 * infinity)\n",
    "b = a * zero\n",
    "b"
   ]
  },
  {
   "cell_type": "markdown",
   "metadata": {},
   "source": [
    "then the best way to proceed is to print out variables `a`, `b`, `infinity`, and `zero` as they are assigned. Upon doing that, you will see that while `infinity` does contain the Python representation of infinity, `0 * infinity` gives `NaN` instead of 0.\n",
    "\n",
    "You might also find it useful to comment out some lines, e.g. `a = a**2`, to check if that line is the source of the error (in this case, it is not).\n",
    "\n",
    "Being good at debugging code comes with experience and (sometimes) specialised software, but the basic `print()` and `#comment` will get you very far."
   ]
  },
  {
   "cell_type": "markdown",
   "metadata": {},
   "source": [
    "# Exercises"
   ]
  },
  {
   "cell_type": "markdown",
   "metadata": {},
   "source": [
    "## 1. Error Spotting\n",
    "There seem to be a couple of issues with the code below. Can you make it run?"
   ]
  },
  {
   "cell_type": "code",
   "execution_count": null,
   "metadata": {},
   "outputs": [],
   "source": [
    "x = \"Calculating 252 // 6\n",
    "print(x)\n",
    "aswer = 252 // 6\n",
    "print(\"The answer is\", answer)"
   ]
  },
  {
   "cell_type": "markdown",
   "metadata": {},
   "source": [
    "Run this block to check your answer."
   ]
  },
  {
   "cell_type": "code",
   "execution_count": 10,
   "metadata": {},
   "outputs": [
    {
     "ename": "NameError",
     "evalue": "name 'answer' is not defined",
     "output_type": "error",
     "traceback": [
      "\u001b[0;31m---------------------------------------------------------------------------\u001b[0m",
      "\u001b[0;31mNameError\u001b[0m                                 Traceback (most recent call last)",
      "Cell \u001b[0;32mIn[10], line 3\u001b[0m\n\u001b[1;32m      1\u001b[0m \u001b[38;5;66;03m################ Checking code ########################\u001b[39;00m\n\u001b[1;32m      2\u001b[0m \u001b[38;5;66;03m# Please don't edit this code\u001b[39;00m\n\u001b[0;32m----> 3\u001b[0m \u001b[38;5;28;01mif\u001b[39;00m (\u001b[38;5;28mtype\u001b[39m(answer) \u001b[38;5;241m==\u001b[39m \u001b[38;5;28mtype\u001b[39m(\u001b[38;5;241m12\u001b[39m) \u001b[38;5;129;01mand\u001b[39;00m \u001b[38;5;28mtype\u001b[39m(x) \u001b[38;5;241m==\u001b[39m \u001b[38;5;28mtype\u001b[39m(\u001b[38;5;124m\"\u001b[39m\u001b[38;5;124mstring\u001b[39m\u001b[38;5;124m\"\u001b[39m)):\n\u001b[1;32m      4\u001b[0m     \u001b[38;5;28mprint\u001b[39m (\u001b[38;5;124m\"\u001b[39m\u001b[38;5;124mAnswer is correct. Good job!\u001b[39m\u001b[38;5;124m\"\u001b[39m)\n\u001b[1;32m      5\u001b[0m \u001b[38;5;28;01melse\u001b[39;00m:\n",
      "\u001b[0;31mNameError\u001b[0m: name 'answer' is not defined"
     ]
    }
   ],
   "source": [
    "################ Checking code ########################\n",
    "# Please don't edit this code\n",
    "if (type(answer) == type(12) and type(x) == type(\"string\")):\n",
    "    print (\"Answer is correct. Good job!\")\n",
    "else:\n",
    "    print(\"Wrong answer, please try again.\")"
   ]
  },
  {
   "cell_type": "markdown",
   "metadata": {},
   "source": [
    "## 2. Odd or even\n",
    "First, get the user to input some number. Then write code which checks whether the number in the variable is odd or even. The code cell should output `True` if the number is even and `False` if it is odd.  At the end of the code cell, you should just end up with a _boolean_! \n",
    "\n",
    "*Note: Don't use if-else statements here, they will be covered later in the course*\n",
    "\n",
    "*Hint: how does an even / odd number react differently when divided by 2?*"
   ]
  },
  {
   "cell_type": "code",
   "execution_count": null,
   "metadata": {},
   "outputs": [],
   "source": []
  }
 ],
 "metadata": {
  "kernelspec": {
   "display_name": "Python 3 (ipykernel)",
   "language": "python",
   "name": "python3"
  },
  "language_info": {
   "codemirror_mode": {
    "name": "ipython",
    "version": 3
   },
   "file_extension": ".py",
   "mimetype": "text/x-python",
   "name": "python",
   "nbconvert_exporter": "python",
   "pygments_lexer": "ipython3",
   "version": "3.11.4"
  }
 },
 "nbformat": 4,
 "nbformat_minor": 2
}
